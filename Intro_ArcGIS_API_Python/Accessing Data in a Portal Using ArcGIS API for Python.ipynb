{
 "cells": [
  {
   "cell_type": "code",
   "execution_count": 1,
   "id": "b3f894d6",
   "metadata": {},
   "outputs": [
    {
     "name": "stdout",
     "output_type": "stream",
     "text": [
      "Collecting arcgis\n",
      "  Downloading arcgis-2.2.0.1.tar.gz (47.9 MB)\n",
      "\u001b[2K     \u001b[90m━━━━━━━━━━━━━━━━━━━━━━━━━━━━━━━━━━━━━━━━\u001b[0m \u001b[32m47.9/47.9 MB\u001b[0m \u001b[31m9.5 MB/s\u001b[0m eta \u001b[36m0:00:00\u001b[0m:00:01\u001b[0m00:01\u001b[0m\n",
      "\u001b[?25h  Preparing metadata (setup.py) ... \u001b[?25ldone\n",
      "\u001b[?25hRequirement already satisfied: pillow in /Users/watcharin-p/anaconda3/lib/python3.11/site-packages (from arcgis) (9.4.0)\n",
      "Requirement already satisfied: urllib3<3,>=1.21.1 in /Users/watcharin-p/anaconda3/lib/python3.11/site-packages (from arcgis) (1.26.16)\n",
      "Requirement already satisfied: cachetools in /Users/watcharin-p/anaconda3/lib/python3.11/site-packages (from arcgis) (5.3.1)\n",
      "Requirement already satisfied: lxml in /Users/watcharin-p/anaconda3/lib/python3.11/site-packages (from arcgis) (4.9.2)\n",
      "Requirement already satisfied: notebook in /Users/watcharin-p/anaconda3/lib/python3.11/site-packages (from arcgis) (6.5.4)\n",
      "Requirement already satisfied: cryptography in /Users/watcharin-p/anaconda3/lib/python3.11/site-packages (from arcgis) (41.0.2)\n",
      "Collecting ipywidgets<8,>=7 (from arcgis)\n",
      "  Obtaining dependency information for ipywidgets<8,>=7 from https://files.pythonhosted.org/packages/14/3f/fa7fcf85061819f5a10ed09eaef38fe97d0f3f91d14674bbb26c3fc2a622/ipywidgets-7.8.1-py2.py3-none-any.whl.metadata\n",
      "  Using cached ipywidgets-7.8.1-py2.py3-none-any.whl.metadata (1.9 kB)\n",
      "Requirement already satisfied: widgetsnbextension>=3 in /Users/watcharin-p/anaconda3/lib/python3.11/site-packages (from arcgis) (4.0.8)\n",
      "Collecting jupyter-client<=6.1.12 (from arcgis)\n",
      "  Using cached jupyter_client-6.1.12-py3-none-any.whl (112 kB)\n",
      "Collecting pandas<3,>=2.0.0 (from arcgis)\n",
      "  Obtaining dependency information for pandas<3,>=2.0.0 from https://files.pythonhosted.org/packages/af/7b/d170f9c8306c7673f57ca4f442e326d36e20299725edc5d0af36a3e3b041/pandas-2.1.1-cp311-cp311-macosx_11_0_arm64.whl.metadata\n",
      "  Using cached pandas-2.1.1-cp311-cp311-macosx_11_0_arm64.whl.metadata (18 kB)\n",
      "Requirement already satisfied: numpy>=1.21.6 in /Users/watcharin-p/anaconda3/lib/python3.11/site-packages (from arcgis) (1.24.3)\n",
      "Requirement already satisfied: matplotlib in /Users/watcharin-p/anaconda3/lib/python3.11/site-packages (from arcgis) (3.7.1)\n",
      "Requirement already satisfied: keyring>=23.3.0 in /Users/watcharin-p/anaconda3/lib/python3.11/site-packages (from arcgis) (23.13.1)\n",
      "Collecting pylerc (from arcgis)\n",
      "  Using cached pylerc-4.0-py3-none-any.whl\n",
      "Requirement already satisfied: ujson>=3 in /Users/watcharin-p/anaconda3/lib/python3.11/site-packages (from arcgis) (5.4.0)\n",
      "Requirement already satisfied: jupyterlab in /Users/watcharin-p/anaconda3/lib/python3.11/site-packages (from arcgis) (3.6.3)\n",
      "Collecting truststore>=0.7.0 (from arcgis)\n",
      "  Obtaining dependency information for truststore>=0.7.0 from https://files.pythonhosted.org/packages/20/56/7811d5439b6a56374f274a8672d8f18b4deadadeb3a9f0c86424b98b6f96/truststore-0.8.0-py3-none-any.whl.metadata\n",
      "  Using cached truststore-0.8.0-py3-none-any.whl.metadata (4.0 kB)\n",
      "Requirement already satisfied: pyshp>=2 in /Users/watcharin-p/anaconda3/lib/python3.11/site-packages (from arcgis) (2.3.1)\n",
      "Collecting geomet (from arcgis)\n",
      "  Using cached geomet-1.0.0-py3-none-any.whl (28 kB)\n",
      "Requirement already satisfied: requests<3,>=2.27.1 in /Users/watcharin-p/anaconda3/lib/python3.11/site-packages (from arcgis) (2.31.0)\n",
      "Collecting requests-oauthlib (from arcgis)\n",
      "  Using cached requests_oauthlib-1.3.1-py2.py3-none-any.whl (23 kB)\n",
      "Requirement already satisfied: requests_toolbelt in /Users/watcharin-p/anaconda3/lib/python3.11/site-packages (from arcgis) (1.0.0)\n",
      "Collecting pyspnego>=0.8.0 (from arcgis)\n",
      "  Obtaining dependency information for pyspnego>=0.8.0 from https://files.pythonhosted.org/packages/cc/fd/06a7618de50ad13b7e85115bd1e42c1625e3365313a4c971898386781f89/pyspnego-0.10.2-py3-none-any.whl.metadata\n",
      "  Using cached pyspnego-0.10.2-py3-none-any.whl.metadata (5.4 kB)\n",
      "Collecting requests-kerberos (from arcgis)\n",
      "  Using cached requests_kerberos-0.14.0-py2.py3-none-any.whl (11 kB)\n",
      "Collecting requests-gssapi (from arcgis)\n",
      "  Using cached requests_gssapi-1.2.3-py2.py3-none-any.whl\n",
      "Requirement already satisfied: dask>=2023.3.2 in /Users/watcharin-p/anaconda3/lib/python3.11/site-packages (from arcgis) (2023.6.0)\n",
      "Requirement already satisfied: matplotlib-inline in /Users/watcharin-p/anaconda3/lib/python3.11/site-packages (from arcgis) (0.1.6)\n",
      "Requirement already satisfied: click>=8.0 in /Users/watcharin-p/anaconda3/lib/python3.11/site-packages (from dask>=2023.3.2->arcgis) (8.0.4)\n",
      "Requirement already satisfied: cloudpickle>=1.5.0 in /Users/watcharin-p/anaconda3/lib/python3.11/site-packages (from dask>=2023.3.2->arcgis) (2.2.1)\n",
      "Requirement already satisfied: fsspec>=2021.09.0 in /Users/watcharin-p/anaconda3/lib/python3.11/site-packages (from dask>=2023.3.2->arcgis) (2023.4.0)\n",
      "Requirement already satisfied: packaging>=20.0 in /Users/watcharin-p/anaconda3/lib/python3.11/site-packages (from dask>=2023.3.2->arcgis) (23.0)\n",
      "Requirement already satisfied: partd>=1.2.0 in /Users/watcharin-p/anaconda3/lib/python3.11/site-packages (from dask>=2023.3.2->arcgis) (1.2.0)\n",
      "Requirement already satisfied: pyyaml>=5.3.1 in /Users/watcharin-p/anaconda3/lib/python3.11/site-packages (from dask>=2023.3.2->arcgis) (6.0)\n",
      "Requirement already satisfied: toolz>=0.10.0 in /Users/watcharin-p/anaconda3/lib/python3.11/site-packages (from dask>=2023.3.2->arcgis) (0.12.0)\n",
      "Requirement already satisfied: importlib-metadata>=4.13.0 in /Users/watcharin-p/anaconda3/lib/python3.11/site-packages (from dask>=2023.3.2->arcgis) (6.0.0)\n",
      "Requirement already satisfied: comm>=0.1.3 in /Users/watcharin-p/anaconda3/lib/python3.11/site-packages (from ipywidgets<8,>=7->arcgis) (0.1.4)\n",
      "Requirement already satisfied: ipython-genutils~=0.2.0 in /Users/watcharin-p/anaconda3/lib/python3.11/site-packages (from ipywidgets<8,>=7->arcgis) (0.2.0)\n",
      "Requirement already satisfied: traitlets>=4.3.1 in /Users/watcharin-p/anaconda3/lib/python3.11/site-packages (from ipywidgets<8,>=7->arcgis) (5.7.1)\n",
      "Collecting widgetsnbextension>=3 (from arcgis)\n",
      "  Obtaining dependency information for widgetsnbextension>=3 from https://files.pythonhosted.org/packages/9c/a0/ba2634cd75b7d7f8f9aeb38edf854cd6c9877ec064013a62630b4541b88f/widgetsnbextension-3.6.6-py2.py3-none-any.whl.metadata\n",
      "  Using cached widgetsnbextension-3.6.6-py2.py3-none-any.whl.metadata (1.3 kB)\n",
      "Requirement already satisfied: ipython>=4.0.0 in /Users/watcharin-p/anaconda3/lib/python3.11/site-packages (from ipywidgets<8,>=7->arcgis) (8.15.0)\n",
      "Collecting jupyterlab-widgets<3,>=1.0.0 (from ipywidgets<8,>=7->arcgis)\n",
      "  Obtaining dependency information for jupyterlab-widgets<3,>=1.0.0 from https://files.pythonhosted.org/packages/06/c9/50a16b6e7410d661ea16160f8c650c444ab83740b437b3c202ca7d8e2b73/jupyterlab_widgets-1.1.7-py3-none-any.whl.metadata\n",
      "  Using cached jupyterlab_widgets-1.1.7-py3-none-any.whl.metadata (3.7 kB)\n",
      "Requirement already satisfied: jupyter-core>=4.6.0 in /Users/watcharin-p/anaconda3/lib/python3.11/site-packages (from jupyter-client<=6.1.12->arcgis) (5.3.0)\n",
      "Requirement already satisfied: pyzmq>=13 in /Users/watcharin-p/anaconda3/lib/python3.11/site-packages (from jupyter-client<=6.1.12->arcgis) (23.2.0)\n",
      "Requirement already satisfied: python-dateutil>=2.1 in /Users/watcharin-p/anaconda3/lib/python3.11/site-packages (from jupyter-client<=6.1.12->arcgis) (2.8.2)\n",
      "Requirement already satisfied: tornado>=4.1 in /Users/watcharin-p/anaconda3/lib/python3.11/site-packages (from jupyter-client<=6.1.12->arcgis) (6.3.2)\n",
      "Requirement already satisfied: jaraco.classes in /Users/watcharin-p/anaconda3/lib/python3.11/site-packages (from keyring>=23.3.0->arcgis) (3.2.1)\n",
      "Requirement already satisfied: pytz>=2020.1 in /Users/watcharin-p/anaconda3/lib/python3.11/site-packages (from pandas<3,>=2.0.0->arcgis) (2022.7)\n",
      "Collecting tzdata>=2022.1 (from pandas<3,>=2.0.0->arcgis)\n",
      "  Using cached tzdata-2023.3-py2.py3-none-any.whl (341 kB)\n",
      "Requirement already satisfied: charset-normalizer<4,>=2 in /Users/watcharin-p/anaconda3/lib/python3.11/site-packages (from requests<3,>=2.27.1->arcgis) (2.0.4)\n",
      "Requirement already satisfied: idna<4,>=2.5 in /Users/watcharin-p/anaconda3/lib/python3.11/site-packages (from requests<3,>=2.27.1->arcgis) (3.4)\n",
      "Requirement already satisfied: certifi>=2017.4.17 in /Users/watcharin-p/anaconda3/lib/python3.11/site-packages (from requests<3,>=2.27.1->arcgis) (2023.7.22)\n"
     ]
    },
    {
     "name": "stdout",
     "output_type": "stream",
     "text": [
      "Requirement already satisfied: jinja2 in /Users/watcharin-p/anaconda3/lib/python3.11/site-packages (from notebook->arcgis) (3.1.2)\n",
      "Requirement already satisfied: argon2-cffi in /Users/watcharin-p/anaconda3/lib/python3.11/site-packages (from notebook->arcgis) (21.3.0)\n",
      "Requirement already satisfied: nbformat in /Users/watcharin-p/anaconda3/lib/python3.11/site-packages (from notebook->arcgis) (5.7.0)\n",
      "Requirement already satisfied: nbconvert>=5 in /Users/watcharin-p/anaconda3/lib/python3.11/site-packages (from notebook->arcgis) (6.5.4)\n",
      "Requirement already satisfied: nest-asyncio>=1.5 in /Users/watcharin-p/anaconda3/lib/python3.11/site-packages (from notebook->arcgis) (1.5.6)\n",
      "Requirement already satisfied: ipykernel in /Users/watcharin-p/anaconda3/lib/python3.11/site-packages (from notebook->arcgis) (6.19.2)\n",
      "Requirement already satisfied: Send2Trash>=1.8.0 in /Users/watcharin-p/anaconda3/lib/python3.11/site-packages (from notebook->arcgis) (1.8.0)\n",
      "Requirement already satisfied: terminado>=0.8.3 in /Users/watcharin-p/anaconda3/lib/python3.11/site-packages (from notebook->arcgis) (0.17.1)\n",
      "Requirement already satisfied: prometheus-client in /Users/watcharin-p/anaconda3/lib/python3.11/site-packages (from notebook->arcgis) (0.14.1)\n",
      "Requirement already satisfied: nbclassic>=0.4.7 in /Users/watcharin-p/anaconda3/lib/python3.11/site-packages (from notebook->arcgis) (0.5.5)\n",
      "Requirement already satisfied: cffi>=1.12 in /Users/watcharin-p/anaconda3/lib/python3.11/site-packages (from cryptography->arcgis) (1.15.1)\n",
      "Requirement already satisfied: six in /Users/watcharin-p/anaconda3/lib/python3.11/site-packages (from geomet->arcgis) (1.16.0)\n",
      "Requirement already satisfied: jupyterlab-server~=2.19 in /Users/watcharin-p/anaconda3/lib/python3.11/site-packages (from jupyterlab->arcgis) (2.22.0)\n",
      "Requirement already satisfied: jupyter-server<3,>=1.16.0 in /Users/watcharin-p/anaconda3/lib/python3.11/site-packages (from jupyterlab->arcgis) (1.23.4)\n",
      "Requirement already satisfied: jupyter-ydoc~=0.2.3 in /Users/watcharin-p/anaconda3/lib/python3.11/site-packages (from jupyterlab->arcgis) (0.2.4)\n",
      "Requirement already satisfied: jupyter-server-ydoc~=0.8.0 in /Users/watcharin-p/anaconda3/lib/python3.11/site-packages (from jupyterlab->arcgis) (0.8.0)\n",
      "Requirement already satisfied: contourpy>=1.0.1 in /Users/watcharin-p/anaconda3/lib/python3.11/site-packages (from matplotlib->arcgis) (1.0.5)\n",
      "Requirement already satisfied: cycler>=0.10 in /Users/watcharin-p/anaconda3/lib/python3.11/site-packages (from matplotlib->arcgis) (0.11.0)\n",
      "Requirement already satisfied: fonttools>=4.22.0 in /Users/watcharin-p/anaconda3/lib/python3.11/site-packages (from matplotlib->arcgis) (4.25.0)\n",
      "Requirement already satisfied: kiwisolver>=1.0.1 in /Users/watcharin-p/anaconda3/lib/python3.11/site-packages (from matplotlib->arcgis) (1.4.4)\n",
      "Requirement already satisfied: pyparsing>=2.3.1 in /Users/watcharin-p/anaconda3/lib/python3.11/site-packages (from matplotlib->arcgis) (3.0.9)\n",
      "Collecting gssapi (from requests-gssapi->arcgis)\n",
      "  Obtaining dependency information for gssapi from https://files.pythonhosted.org/packages/0a/c4/3b62db3b869e6a655f1d95f1ffe8a05777df32ed2b786da0ba963d863d45/gssapi-1.8.3-cp311-cp311-macosx_11_0_arm64.whl.metadata\n",
      "  Using cached gssapi-1.8.3-cp311-cp311-macosx_11_0_arm64.whl.metadata (6.1 kB)\n",
      "Collecting oauthlib>=3.0.0 (from requests-oauthlib->arcgis)\n",
      "  Using cached oauthlib-3.2.2-py3-none-any.whl (151 kB)\n",
      "Requirement already satisfied: pycparser in /Users/watcharin-p/anaconda3/lib/python3.11/site-packages (from cffi>=1.12->cryptography->arcgis) (2.21)\n",
      "Requirement already satisfied: zipp>=0.5 in /Users/watcharin-p/anaconda3/lib/python3.11/site-packages (from importlib-metadata>=4.13.0->dask>=2023.3.2->arcgis) (3.11.0)\n",
      "Requirement already satisfied: backcall in /Users/watcharin-p/anaconda3/lib/python3.11/site-packages (from ipython>=4.0.0->ipywidgets<8,>=7->arcgis) (0.2.0)\n",
      "Requirement already satisfied: decorator in /Users/watcharin-p/anaconda3/lib/python3.11/site-packages (from ipython>=4.0.0->ipywidgets<8,>=7->arcgis) (5.1.1)\n",
      "Requirement already satisfied: jedi>=0.16 in /Users/watcharin-p/anaconda3/lib/python3.11/site-packages (from ipython>=4.0.0->ipywidgets<8,>=7->arcgis) (0.18.1)\n",
      "Requirement already satisfied: pickleshare in /Users/watcharin-p/anaconda3/lib/python3.11/site-packages (from ipython>=4.0.0->ipywidgets<8,>=7->arcgis) (0.7.5)\n",
      "Requirement already satisfied: prompt-toolkit!=3.0.37,<3.1.0,>=3.0.30 in /Users/watcharin-p/anaconda3/lib/python3.11/site-packages (from ipython>=4.0.0->ipywidgets<8,>=7->arcgis) (3.0.36)\n",
      "Requirement already satisfied: pygments>=2.4.0 in /Users/watcharin-p/anaconda3/lib/python3.11/site-packages (from ipython>=4.0.0->ipywidgets<8,>=7->arcgis) (2.15.1)\n",
      "Requirement already satisfied: stack-data in /Users/watcharin-p/anaconda3/lib/python3.11/site-packages (from ipython>=4.0.0->ipywidgets<8,>=7->arcgis) (0.2.0)\n",
      "Requirement already satisfied: pexpect>4.3 in /Users/watcharin-p/anaconda3/lib/python3.11/site-packages (from ipython>=4.0.0->ipywidgets<8,>=7->arcgis) (4.8.0)\n",
      "Requirement already satisfied: appnope in /Users/watcharin-p/anaconda3/lib/python3.11/site-packages (from ipython>=4.0.0->ipywidgets<8,>=7->arcgis) (0.1.2)\n",
      "Requirement already satisfied: MarkupSafe>=2.0 in /Users/watcharin-p/anaconda3/lib/python3.11/site-packages (from jinja2->notebook->arcgis) (2.1.1)\n",
      "Requirement already satisfied: platformdirs>=2.5 in /Users/watcharin-p/anaconda3/lib/python3.11/site-packages (from jupyter-core>=4.6.0->jupyter-client<=6.1.12->arcgis) (2.5.2)\n",
      "Requirement already satisfied: anyio<4,>=3.1.0 in /Users/watcharin-p/anaconda3/lib/python3.11/site-packages (from jupyter-server<3,>=1.16.0->jupyterlab->arcgis) (3.5.0)\n",
      "Requirement already satisfied: websocket-client in /Users/watcharin-p/anaconda3/lib/python3.11/site-packages (from jupyter-server<3,>=1.16.0->jupyterlab->arcgis) (0.58.0)\n",
      "Requirement already satisfied: jupyter-server-fileid<1,>=0.6.0 in /Users/watcharin-p/anaconda3/lib/python3.11/site-packages (from jupyter-server-ydoc~=0.8.0->jupyterlab->arcgis) (0.9.0)\n",
      "Requirement already satisfied: ypy-websocket<0.9.0,>=0.8.2 in /Users/watcharin-p/anaconda3/lib/python3.11/site-packages (from jupyter-server-ydoc~=0.8.0->jupyterlab->arcgis) (0.8.2)\n",
      "Requirement already satisfied: y-py<0.6.0,>=0.5.3 in /Users/watcharin-p/anaconda3/lib/python3.11/site-packages (from jupyter-ydoc~=0.2.3->jupyterlab->arcgis) (0.5.9)\n",
      "Requirement already satisfied: babel>=2.10 in /Users/watcharin-p/anaconda3/lib/python3.11/site-packages (from jupyterlab-server~=2.19->jupyterlab->arcgis) (2.11.0)\n",
      "Requirement already satisfied: json5>=0.9.0 in /Users/watcharin-p/anaconda3/lib/python3.11/site-packages (from jupyterlab-server~=2.19->jupyterlab->arcgis) (0.9.6)\n",
      "Requirement already satisfied: jsonschema>=4.17.3 in /Users/watcharin-p/anaconda3/lib/python3.11/site-packages (from jupyterlab-server~=2.19->jupyterlab->arcgis) (4.17.3)\n",
      "Requirement already satisfied: notebook-shim>=0.1.0 in /Users/watcharin-p/anaconda3/lib/python3.11/site-packages (from nbclassic>=0.4.7->notebook->arcgis) (0.2.2)\n",
      "Requirement already satisfied: beautifulsoup4 in /Users/watcharin-p/anaconda3/lib/python3.11/site-packages (from nbconvert>=5->notebook->arcgis) (4.12.2)\n",
      "Requirement already satisfied: bleach in /Users/watcharin-p/anaconda3/lib/python3.11/site-packages (from nbconvert>=5->notebook->arcgis) (4.1.0)\n",
      "Requirement already satisfied: defusedxml in /Users/watcharin-p/anaconda3/lib/python3.11/site-packages (from nbconvert>=5->notebook->arcgis) (0.7.1)\n",
      "Requirement already satisfied: entrypoints>=0.2.2 in /Users/watcharin-p/anaconda3/lib/python3.11/site-packages (from nbconvert>=5->notebook->arcgis) (0.4)\n",
      "Requirement already satisfied: jupyterlab-pygments in /Users/watcharin-p/anaconda3/lib/python3.11/site-packages (from nbconvert>=5->notebook->arcgis) (0.1.2)\n",
      "Requirement already satisfied: mistune<2,>=0.8.1 in /Users/watcharin-p/anaconda3/lib/python3.11/site-packages (from nbconvert>=5->notebook->arcgis) (0.8.4)\n",
      "Requirement already satisfied: nbclient>=0.5.0 in /Users/watcharin-p/anaconda3/lib/python3.11/site-packages (from nbconvert>=5->notebook->arcgis) (0.5.13)\n",
      "Requirement already satisfied: pandocfilters>=1.4.1 in /Users/watcharin-p/anaconda3/lib/python3.11/site-packages (from nbconvert>=5->notebook->arcgis) (1.5.0)\n"
     ]
    },
    {
     "name": "stdout",
     "output_type": "stream",
     "text": [
      "Requirement already satisfied: tinycss2 in /Users/watcharin-p/anaconda3/lib/python3.11/site-packages (from nbconvert>=5->notebook->arcgis) (1.2.1)\n",
      "Requirement already satisfied: fastjsonschema in /Users/watcharin-p/anaconda3/lib/python3.11/site-packages (from nbformat->notebook->arcgis) (2.16.2)\n",
      "Requirement already satisfied: locket in /Users/watcharin-p/anaconda3/lib/python3.11/site-packages (from partd>=1.2.0->dask>=2023.3.2->arcgis) (1.0.0)\n",
      "Requirement already satisfied: ptyprocess in /Users/watcharin-p/anaconda3/lib/python3.11/site-packages (from terminado>=0.8.3->notebook->arcgis) (0.7.0)\n",
      "Requirement already satisfied: argon2-cffi-bindings in /Users/watcharin-p/anaconda3/lib/python3.11/site-packages (from argon2-cffi->notebook->arcgis) (21.2.0)\n",
      "Requirement already satisfied: debugpy>=1.0 in /Users/watcharin-p/anaconda3/lib/python3.11/site-packages (from ipykernel->notebook->arcgis) (1.6.7)\n",
      "Requirement already satisfied: psutil in /Users/watcharin-p/anaconda3/lib/python3.11/site-packages (from ipykernel->notebook->arcgis) (5.9.0)\n",
      "Requirement already satisfied: more-itertools in /Users/watcharin-p/anaconda3/lib/python3.11/site-packages (from jaraco.classes->keyring>=23.3.0->arcgis) (8.12.0)\n",
      "Collecting krb5>=0.3.0 (from pyspnego>=0.8.0->arcgis)\n",
      "  Obtaining dependency information for krb5>=0.3.0 from https://files.pythonhosted.org/packages/13/9b/1cdca966e543624a44c77e106c6d4bdf0e9a0f46694f8f5ce092742a31c9/krb5-0.5.1-cp311-cp311-macosx_11_0_arm64.whl.metadata\n",
      "  Using cached krb5-0.5.1-cp311-cp311-macosx_11_0_arm64.whl.metadata (5.6 kB)\n",
      "Requirement already satisfied: sniffio>=1.1 in /Users/watcharin-p/anaconda3/lib/python3.11/site-packages (from anyio<4,>=3.1.0->jupyter-server<3,>=1.16.0->jupyterlab->arcgis) (1.2.0)\n",
      "Requirement already satisfied: parso<0.9.0,>=0.8.0 in /Users/watcharin-p/anaconda3/lib/python3.11/site-packages (from jedi>=0.16->ipython>=4.0.0->ipywidgets<8,>=7->arcgis) (0.8.3)\n",
      "Requirement already satisfied: attrs>=17.4.0 in /Users/watcharin-p/anaconda3/lib/python3.11/site-packages (from jsonschema>=4.17.3->jupyterlab-server~=2.19->jupyterlab->arcgis) (22.1.0)\n",
      "Requirement already satisfied: pyrsistent!=0.17.0,!=0.17.1,!=0.17.2,>=0.14.0 in /Users/watcharin-p/anaconda3/lib/python3.11/site-packages (from jsonschema>=4.17.3->jupyterlab-server~=2.19->jupyterlab->arcgis) (0.18.0)\n",
      "Requirement already satisfied: jupyter-events>=0.5.0 in /Users/watcharin-p/anaconda3/lib/python3.11/site-packages (from jupyter-server-fileid<1,>=0.6.0->jupyter-server-ydoc~=0.8.0->jupyterlab->arcgis) (0.6.3)\n",
      "Requirement already satisfied: wcwidth in /Users/watcharin-p/anaconda3/lib/python3.11/site-packages (from prompt-toolkit!=3.0.37,<3.1.0,>=3.0.30->ipython>=4.0.0->ipywidgets<8,>=7->arcgis) (0.2.5)\n",
      "Requirement already satisfied: aiofiles<23,>=22.1.0 in /Users/watcharin-p/anaconda3/lib/python3.11/site-packages (from ypy-websocket<0.9.0,>=0.8.2->jupyter-server-ydoc~=0.8.0->jupyterlab->arcgis) (22.1.0)\n",
      "Requirement already satisfied: aiosqlite<1,>=0.17.0 in /Users/watcharin-p/anaconda3/lib/python3.11/site-packages (from ypy-websocket<0.9.0,>=0.8.2->jupyter-server-ydoc~=0.8.0->jupyterlab->arcgis) (0.18.0)\n",
      "Requirement already satisfied: soupsieve>1.2 in /Users/watcharin-p/anaconda3/lib/python3.11/site-packages (from beautifulsoup4->nbconvert>=5->notebook->arcgis) (2.4)\n",
      "Requirement already satisfied: webencodings in /Users/watcharin-p/anaconda3/lib/python3.11/site-packages (from bleach->nbconvert>=5->notebook->arcgis) (0.5.1)\n",
      "Requirement already satisfied: executing in /Users/watcharin-p/anaconda3/lib/python3.11/site-packages (from stack-data->ipython>=4.0.0->ipywidgets<8,>=7->arcgis) (0.8.3)\n",
      "Requirement already satisfied: asttokens in /Users/watcharin-p/anaconda3/lib/python3.11/site-packages (from stack-data->ipython>=4.0.0->ipywidgets<8,>=7->arcgis) (2.0.5)\n",
      "Requirement already satisfied: pure-eval in /Users/watcharin-p/anaconda3/lib/python3.11/site-packages (from stack-data->ipython>=4.0.0->ipywidgets<8,>=7->arcgis) (0.2.2)\n",
      "Requirement already satisfied: python-json-logger>=2.0.4 in /Users/watcharin-p/anaconda3/lib/python3.11/site-packages (from jupyter-events>=0.5.0->jupyter-server-fileid<1,>=0.6.0->jupyter-server-ydoc~=0.8.0->jupyterlab->arcgis) (2.0.7)\n",
      "Requirement already satisfied: rfc3339-validator in /Users/watcharin-p/anaconda3/lib/python3.11/site-packages (from jupyter-events>=0.5.0->jupyter-server-fileid<1,>=0.6.0->jupyter-server-ydoc~=0.8.0->jupyterlab->arcgis) (0.1.4)\n",
      "Requirement already satisfied: rfc3986-validator>=0.1.1 in /Users/watcharin-p/anaconda3/lib/python3.11/site-packages (from jupyter-events>=0.5.0->jupyter-server-fileid<1,>=0.6.0->jupyter-server-ydoc~=0.8.0->jupyterlab->arcgis) (0.1.1)\n",
      "Requirement already satisfied: fqdn in /Users/watcharin-p/anaconda3/lib/python3.11/site-packages (from jsonschema>=4.17.3->jupyterlab-server~=2.19->jupyterlab->arcgis) (1.5.1)\n",
      "Requirement already satisfied: isoduration in /Users/watcharin-p/anaconda3/lib/python3.11/site-packages (from jsonschema>=4.17.3->jupyterlab-server~=2.19->jupyterlab->arcgis) (20.11.0)\n",
      "Requirement already satisfied: jsonpointer>1.13 in /Users/watcharin-p/anaconda3/lib/python3.11/site-packages (from jsonschema>=4.17.3->jupyterlab-server~=2.19->jupyterlab->arcgis) (2.1)\n",
      "Requirement already satisfied: uri-template in /Users/watcharin-p/anaconda3/lib/python3.11/site-packages (from jsonschema>=4.17.3->jupyterlab-server~=2.19->jupyterlab->arcgis) (1.3.0)\n",
      "Requirement already satisfied: webcolors>=1.11 in /Users/watcharin-p/anaconda3/lib/python3.11/site-packages (from jsonschema>=4.17.3->jupyterlab-server~=2.19->jupyterlab->arcgis) (1.13)\n",
      "Requirement already satisfied: arrow>=0.15.0 in /Users/watcharin-p/anaconda3/lib/python3.11/site-packages (from isoduration->jsonschema>=4.17.3->jupyterlab-server~=2.19->jupyterlab->arcgis) (1.2.3)\n",
      "Using cached ipywidgets-7.8.1-py2.py3-none-any.whl (124 kB)\n",
      "Using cached pandas-2.1.1-cp311-cp311-macosx_11_0_arm64.whl (10.8 MB)\n",
      "Using cached pyspnego-0.10.2-py3-none-any.whl (129 kB)\n",
      "Using cached truststore-0.8.0-py3-none-any.whl (16 kB)\n",
      "Using cached widgetsnbextension-3.6.6-py2.py3-none-any.whl (1.6 MB)\n",
      "Using cached jupyterlab_widgets-1.1.7-py3-none-any.whl (295 kB)\n",
      "Using cached gssapi-1.8.3-cp311-cp311-macosx_11_0_arm64.whl (687 kB)\n",
      "Using cached krb5-0.5.1-cp311-cp311-macosx_11_0_arm64.whl (907 kB)\n",
      "Building wheels for collected packages: arcgis\n",
      "  Building wheel for arcgis (setup.py) ... \u001b[?25ldone\n",
      "\u001b[?25h  Created wheel for arcgis: filename=arcgis-2.2.0.1-cp311-cp311-macosx_11_0_arm64.whl size=8425698 sha256=40f7c792b94b08b2d6102bc074ae773ca8bd2d3148335a7bfdb1a6ee2cbe116a\n",
      "  Stored in directory: /Users/watcharin-p/Library/Caches/pip/wheels/a4/c7/02/29bfabaac4eacd9211d12ecf4532589f5faad50e27234b7d82\n",
      "Successfully built arcgis\n",
      "Installing collected packages: tzdata, truststore, pylerc, oauthlib, krb5, jupyterlab-widgets, gssapi, geomet, requests-oauthlib, requests-gssapi, pandas, jupyter-client, pyspnego, requests-kerberos, widgetsnbextension, ipywidgets, arcgis\n",
      "  Attempting uninstall: jupyterlab-widgets\n",
      "    Found existing installation: jupyterlab-widgets 3.0.8\n",
      "    Uninstalling jupyterlab-widgets-3.0.8:\n",
      "      Successfully uninstalled jupyterlab-widgets-3.0.8\n",
      "  Attempting uninstall: pandas\n",
      "    Found existing installation: pandas 1.5.3\n",
      "    Uninstalling pandas-1.5.3:\n",
      "      Successfully uninstalled pandas-1.5.3\n",
      "  Attempting uninstall: jupyter-client\n",
      "    Found existing installation: jupyter_client 7.4.9\n",
      "    Uninstalling jupyter_client-7.4.9:\n",
      "      Successfully uninstalled jupyter_client-7.4.9\n",
      "  Attempting uninstall: widgetsnbextension\n",
      "    Found existing installation: widgetsnbextension 4.0.8\n",
      "    Uninstalling widgetsnbextension-4.0.8:\n",
      "      Successfully uninstalled widgetsnbextension-4.0.8\n",
      "  Attempting uninstall: ipywidgets\n",
      "    Found existing installation: ipywidgets 8.1.0\n",
      "    Uninstalling ipywidgets-8.1.0:\n",
      "      Successfully uninstalled ipywidgets-8.1.0\n",
      "\u001b[31mERROR: pip's dependency resolver does not currently take into account all the packages that are installed. This behaviour is the source of the following dependency conflicts.\n",
      "spyder 5.4.3 requires pyqt5<5.16, which is not installed.\n",
      "spyder 5.4.3 requires pyqtwebengine<5.16, which is not installed.\n",
      "spyder-kernels 2.4.3 requires jupyter-client<9,>=7.4.9; python_version >= \"3\", but you have jupyter-client 6.1.12 which is incompatible.\n",
      "jupyter-console 6.6.3 requires jupyter-client>=7.0.0, but you have jupyter-client 6.1.12 which is incompatible.\u001b[0m\u001b[31m\n",
      "\u001b[0mSuccessfully installed arcgis-2.2.0.1 geomet-1.0.0 gssapi-1.8.3 ipywidgets-7.8.1 jupyter-client-6.1.12 jupyterlab-widgets-1.1.7 krb5-0.5.1 oauthlib-3.2.2 pandas-2.1.1 pylerc-4.0 pyspnego-0.10.2 requests-gssapi-1.2.3 requests-kerberos-0.14.0 requests-oauthlib-1.3.1 truststore-0.8.0 tzdata-2023.3 widgetsnbextension-3.6.6\n"
     ]
    },
    {
     "name": "stdout",
     "output_type": "stream",
     "text": [
      "Note: you may need to restart the kernel to use updated packages.\n"
     ]
    }
   ],
   "source": [
    "pip install arcgis"
   ]
  },
  {
   "cell_type": "code",
   "execution_count": 2,
   "id": "8b27c34c",
   "metadata": {},
   "outputs": [],
   "source": [
    "from arcgis.gis import GIS"
   ]
  },
  {
   "cell_type": "code",
   "execution_count": 12,
   "id": "453baba0",
   "metadata": {},
   "outputs": [
    {
     "name": "stdout",
     "output_type": "stream",
     "text": [
      "ArcGIS Online as anonymous user\n",
      "Logged in as anonymous user to ArcGIS Online\n"
     ]
    }
   ],
   "source": [
    "print(\"ArcGIS Online as anonymous user\")    \n",
    "gis = GIS()\n",
    "print(\"Logged in as anonymous user to \" + gis.properties.portalName)"
   ]
  },
  {
   "cell_type": "code",
   "execution_count": 13,
   "id": "bdbc30bd",
   "metadata": {},
   "outputs": [
    {
     "data": {
      "text/plain": [
       "[<Item title:\"Building Footprint Extraction - USA\" type:Deep Learning Package owner:esri_analytics>,\n",
       " <Item title:\"USA Soils Map Units\" type:Feature Layer Collection owner:esri>,\n",
       " <Item title:\"USA Census Populated Place Areas\" type:Feature Layer Collection owner:esri_dm>,\n",
       " <Item title:\"USA Property Crime (on 2010 Census Geography)\" type:Map Image Layer owner:esri>,\n",
       " <Item title:\"USA Forest Type\" type:Imagery Layer owner:esri>,\n",
       " <Item title:\"USA Block Groups\" type:Feature Layer Collection owner:esri_dm>,\n",
       " <Item title:\"USA Current Wildfires\" type:Feature Layer Collection owner:esri_livefeeds2>,\n",
       " <Item title:\"USA State Plane Zones\" type:Layer Package owner:esri_dm>,\n",
       " <Item title:\"USA Weather Watches and Warnings\" type:Feature Layer Collection owner:esri_livefeeds2>,\n",
       " <Item title:\"Highpoints USA TM\" type:Web Map owner:tyson1>]"
      ]
     },
     "execution_count": 13,
     "metadata": {},
     "output_type": "execute_result"
    }
   ],
   "source": [
    "search_results"
   ]
  },
  {
   "cell_type": "code",
   "execution_count": 16,
   "id": "e81ac868",
   "metadata": {},
   "outputs": [
    {
     "data": {
      "text/html": [
       "<div class=\"item_container\" style=\"height: auto; overflow: hidden; border: 1px solid #cfcfcf; border-radius: 2px; background: #f6fafa; line-height: 1.21429em; padding: 10px;\">\n",
       "                    <div class=\"item_left\" style=\"width: 210px; float: left;\">\n",
       "                       <a href='https://www.arcgis.com/home/item.html?id=91c6a5f6410b4991ab0db1d7c26daacb' target='_blank'>\n",
       "                        <img src='https://www.arcgis.com/sharing/rest//content/items/91c6a5f6410b4991ab0db1d7c26daacb/info/thumbnail/thumbnail1578437765660.jpeg' class=\"itemThumbnail\">\n",
       "                       </a>\n",
       "                    </div>\n",
       "\n",
       "                    <div class=\"item_right\"     style=\"float: none; width: auto; overflow: hidden;\">\n",
       "                        <a href='https://www.arcgis.com/home/item.html?id=91c6a5f6410b4991ab0db1d7c26daacb' target='_blank'><b>USA Freeway System</b>\n",
       "                        </a>\n",
       "                        <br/>This layer presents rural and urban interstate highways.<img src='https://www.arcgis.com/home/js/jsapi/esri/css/images/item_type_icons/featureshosted16.png' style=\"vertical-align:middle;\" width=16 height=16>Feature Layer Collection by esri_dm\n",
       "                        <br/>Last Modified: February 07, 2023\n",
       "                        <br/>4 comments, 4782519 views\n",
       "                    </div>\n",
       "                </div>\n",
       "                "
      ],
      "text/plain": [
       "<Item title:\"USA Freeway System\" type:Feature Layer Collection owner:esri_dm>"
      ]
     },
     "execution_count": 16,
     "metadata": {},
     "output_type": "execute_result"
    }
   ],
   "source": [
    "traffic_count = gis.content.get('91c6a5f6410b4991ab0db1d7c26daacb')\n",
    "traffic_count"
   ]
  },
  {
   "cell_type": "code",
   "execution_count": 23,
   "id": "108ae6f2",
   "metadata": {},
   "outputs": [],
   "source": [
    "search_results = gis.content.search(\"title:Puget Sound Traffic Incidents\", item_type=\"Feature Layer\", outside_org=True)"
   ]
  },
  {
   "cell_type": "code",
   "execution_count": 24,
   "id": "70371f68",
   "metadata": {},
   "outputs": [
    {
     "data": {
      "text/plain": [
       "[<Item title:\"Puget Sound Traffic Incidents\" type:Feature Layer Collection owner:EsriTrainingSvc>,\n",
       " <Item title:\"Puget Sound Traffic Incidents\" type:Feature Layer Collection owner:CFOLLETT_depaul_edu>]"
      ]
     },
     "execution_count": 24,
     "metadata": {},
     "output_type": "execute_result"
    }
   ],
   "source": [
    "search_results"
   ]
  },
  {
   "cell_type": "code",
   "execution_count": 25,
   "id": "59c357aa",
   "metadata": {},
   "outputs": [
    {
     "data": {
      "text/html": [
       "<div class=\"item_container\" style=\"height: auto; overflow: hidden; border: 1px solid #cfcfcf; border-radius: 2px; background: #f6fafa; line-height: 1.21429em; padding: 10px;\">\n",
       "                    <div class=\"item_left\" style=\"width: 210px; float: left;\">\n",
       "                       <a href='https://www.arcgis.com/home/item.html?id=320838aca5aa4d53918f3c92d3549975' target='_blank'>\n",
       "                        <img src='https://www.arcgis.com/sharing/rest//content/items/320838aca5aa4d53918f3c92d3549975/info/thumbnail/ago_downloaded.png' class=\"itemThumbnail\">\n",
       "                       </a>\n",
       "                    </div>\n",
       "\n",
       "                    <div class=\"item_right\"     style=\"float: none; width: auto; overflow: hidden;\">\n",
       "                        <a href='https://www.arcgis.com/home/item.html?id=320838aca5aa4d53918f3c92d3549975' target='_blank'><b>Puget Sound Traffic Incidents</b>\n",
       "                        </a>\n",
       "                        <br/>Stanford Open Policing Project, a nationwide analysis of traffic stops and searches.<img src='https://www.arcgis.com/home/js/jsapi/esri/css/images/item_type_icons/featureshosted16.png' style=\"vertical-align:middle;\" width=16 height=16>Feature Layer Collection by EsriTrainingSvc\n",
       "                        <br/>Last Modified: October 10, 2019\n",
       "                        <br/>0 comments, 2972 views\n",
       "                    </div>\n",
       "                </div>\n",
       "                "
      ],
      "text/plain": [
       "<Item title:\"Puget Sound Traffic Incidents\" type:Feature Layer Collection owner:EsriTrainingSvc>"
      ]
     },
     "execution_count": 25,
     "metadata": {},
     "output_type": "execute_result"
    }
   ],
   "source": [
    "search_results[0]"
   ]
  },
  {
   "cell_type": "code",
   "execution_count": null,
   "id": "245a72ef",
   "metadata": {},
   "outputs": [],
   "source": []
  }
 ],
 "metadata": {
  "kernelspec": {
   "display_name": "Python 3 (ipykernel)",
   "language": "python",
   "name": "python3"
  },
  "language_info": {
   "codemirror_mode": {
    "name": "ipython",
    "version": 3
   },
   "file_extension": ".py",
   "mimetype": "text/x-python",
   "name": "python",
   "nbconvert_exporter": "python",
   "pygments_lexer": "ipython3",
   "version": "3.11.4"
  }
 },
 "nbformat": 4,
 "nbformat_minor": 5
}
