{
 "cells": [
  {
   "cell_type": "markdown",
   "id": "2ce1a43c",
   "metadata": {},
   "source": [
    "## GIS for Climate Action - VRP exercise using Python API"
   ]
  },
  {
   "cell_type": "markdown",
   "id": "9ae20d19",
   "metadata": {},
   "source": [
    "This notebook solves VRP for a Farm Collective that delivers fresh produce from the farms in Canterbury, New Zealand directly to residents in the nearby city of Christchurch and surrounding towns. Here are the steps  to solve the problem with inputs to get routes that can be opened in Navigator or other navigation app. This notebook uses ArcGIS API for Python for automating the workflow.\n"
   ]
  },
  {
   "cell_type": "markdown",
   "id": "6a07da98",
   "metadata": {},
   "source": [
    "### 1. Import required python libraries"
   ]
  },
  {
   "cell_type": "code",
   "execution_count": 1,
   "id": "a7b43b91",
   "metadata": {},
   "outputs": [],
   "source": [
    "import arcgis\n",
    "from arcgis.gis import GIS\n",
    "import pandas as pd\n",
    "import datetime\n",
    "from arcgis import geocoding\n",
    "from arcgis.features import Feature, FeatureSet"
   ]
  },
  {
   "cell_type": "markdown",
   "id": "c483620b",
   "metadata": {},
   "source": [
    "### 2. Authenticate the connection\n",
    "A few other ways of authentication : https://developers.arcgis.com/python/guide/working-with-different-authentication-schemes/"
   ]
  },
  {
   "cell_type": "code",
   "execution_count": 2,
   "id": "e512b198",
   "metadata": {},
   "outputs": [
    {
     "name": "stdout",
     "output_type": "stream",
     "text": [
      "Logged in as anonymous user to ArcGIS Online\n",
      "Logged in as arcgis_python\n"
     ]
    }
   ],
   "source": [
    "my_gis = GIS(\"https://geosaurus.maps.arcgis.com/home/index.html\", \"arcgis_python\", \"amazing_arcgis_123\") \n",
    "    \n",
    "print(\"Logged in as anonymous user to \" + my_gis.properties.portalName)\n",
    "print(\"Logged in as \" + str(my_gis.properties.user.username))"
   ]
  },
  {
   "cell_type": "markdown",
   "id": "29fcaa13",
   "metadata": {},
   "source": [
    "### 3. Create Orders Layer with Address Information"
   ]
  },
  {
   "cell_type": "code",
   "execution_count": 5,
   "id": "7353beb1",
   "metadata": {},
   "outputs": [
    {
     "data": {
      "text/plain": [
       "<FeatureSet> 483 features"
      ]
     },
     "execution_count": 5,
     "metadata": {},
     "output_type": "execute_result"
    }
   ],
   "source": [
    "orders_csv = r\"C:\\Users\\AIP03\\OneDrive - Suranaree University of Technology\\Airbus Defence and Space\\EsriTraining\\OptimizedRoutes\\PythonNotebook\\Addresses.csv\"\n",
    "\n",
    "# Read the csv file and convert the data to feature set\n",
    "orders_df = pd.read_csv(orders_csv)\n",
    "orders_sdf = pd.DataFrame.spatial.from_df(orders_df, \"Address\")\n",
    "orders_fset = orders_sdf.spatial.to_featureset()\n",
    "orders_fset"
   ]
  },
  {
   "cell_type": "markdown",
   "id": "22252a1f",
   "metadata": {},
   "source": [
    "### 4. Create Routes Layer"
   ]
  },
  {
   "cell_type": "code",
   "execution_count": 23,
   "id": "5c1ce23f",
   "metadata": {},
   "outputs": [
    {
     "data": {
      "text/html": [
       "<div>\n",
       "<style scoped>\n",
       "    .dataframe tbody tr th:only-of-type {\n",
       "        vertical-align: middle;\n",
       "    }\n",
       "\n",
       "    .dataframe tbody tr th {\n",
       "        vertical-align: top;\n",
       "    }\n",
       "\n",
       "    .dataframe thead th {\n",
       "        text-align: right;\n",
       "    }\n",
       "</style>\n",
       "<table border=\"1\" class=\"dataframe\">\n",
       "  <thead>\n",
       "    <tr style=\"text-align: right;\">\n",
       "      <th></th>\n",
       "      <th>ObjectID *</th>\n",
       "      <th>Shape *</th>\n",
       "      <th>Name</th>\n",
       "      <th>Description</th>\n",
       "      <th>StartDepotName</th>\n",
       "      <th>EndDepotName</th>\n",
       "      <th>StartDepotServiceTime</th>\n",
       "      <th>EndDepotServiceTime</th>\n",
       "      <th>EarliestStartTime</th>\n",
       "      <th>LatestStartTime</th>\n",
       "      <th>ArriveDepartDelay</th>\n",
       "      <th>Capacity_1</th>\n",
       "      <th>Capacity_2</th>\n",
       "      <th>Capacity_3</th>\n",
       "      <th>Capacity_4</th>\n",
       "      <th>Capacity_5</th>\n",
       "      <th>Capacity_6</th>\n",
       "      <th>Capacity_7</th>\n",
       "      <th>Capacity_8</th>\n",
       "      <th>Capacity_9</th>\n",
       "      <th>FixedCost</th>\n",
       "      <th>CostPerUnitTime</th>\n",
       "      <th>CostPerUnitDistance</th>\n",
       "      <th>OvertimeStartTime</th>\n",
       "      <th>CostPerUnitOvertime</th>\n",
       "      <th>MaxOrderCount</th>\n",
       "      <th>MaxTotalTime</th>\n",
       "      <th>MaxTotalTravelTime</th>\n",
       "      <th>MaxTotalDistance</th>\n",
       "      <th>AssignmentRule</th>\n",
       "      <th>ViolatedConstraint_1</th>\n",
       "      <th>ViolatedConstraint_2</th>\n",
       "      <th>ViolatedConstraint_3</th>\n",
       "      <th>ViolatedConstraint_4</th>\n",
       "      <th>OrderCount</th>\n",
       "      <th>TotalCost</th>\n",
       "      <th>RegularTimeCost</th>\n",
       "      <th>OvertimeCost</th>\n",
       "      <th>DistanceCost</th>\n",
       "      <th>TotalTime</th>\n",
       "      <th>TotalOrderServiceTime</th>\n",
       "      <th>TotalBreakServiceTime</th>\n",
       "      <th>TotalTravelTime</th>\n",
       "      <th>TotalDistance</th>\n",
       "      <th>StartTime</th>\n",
       "      <th>EndTime</th>\n",
       "      <th>StartTimeUTC</th>\n",
       "      <th>EndTimeUTC</th>\n",
       "      <th>TotalWaitTime</th>\n",
       "      <th>TotalViolationTime</th>\n",
       "      <th>RenewalCount</th>\n",
       "      <th>TotalRenewalServiceTime</th>\n",
       "      <th>Shape_Length</th>\n",
       "    </tr>\n",
       "  </thead>\n",
       "  <tbody>\n",
       "    <tr>\n",
       "      <th>0</th>\n",
       "      <td>1</td>\n",
       "      <td>Polyline M</td>\n",
       "      <td>Route1</td>\n",
       "      <td>&lt;Null&gt;</td>\n",
       "      <td>5110 Arundel Rakaia Gorge Road, Alford Forest,...</td>\n",
       "      <td>5110 Arundel Rakaia Gorge Road, Alford Forest,...</td>\n",
       "      <td>&lt;Null&gt;</td>\n",
       "      <td>&lt;Null&gt;</td>\n",
       "      <td>1.698872e+12</td>\n",
       "      <td>1.698872e+12</td>\n",
       "      <td>&lt;Null&gt;</td>\n",
       "      <td>60</td>\n",
       "      <td>&lt;Null&gt;</td>\n",
       "      <td>&lt;Null&gt;</td>\n",
       "      <td>&lt;Null&gt;</td>\n",
       "      <td>&lt;Null&gt;</td>\n",
       "      <td>&lt;Null&gt;</td>\n",
       "      <td>&lt;Null&gt;</td>\n",
       "      <td>&lt;Null&gt;</td>\n",
       "      <td>&lt;Null&gt;</td>\n",
       "      <td>&lt;Null&gt;</td>\n",
       "      <td>0.5</td>\n",
       "      <td>&lt;Null&gt;</td>\n",
       "      <td>452</td>\n",
       "      <td>10</td>\n",
       "      <td>60</td>\n",
       "      <td>480</td>\n",
       "      <td>&lt;Null&gt;</td>\n",
       "      <td>&lt;Null&gt;</td>\n",
       "      <td>Include</td>\n",
       "      <td>&lt;Null&gt;</td>\n",
       "      <td>&lt;Null&gt;</td>\n",
       "      <td>&lt;Null&gt;</td>\n",
       "      <td>&lt;Null&gt;</td>\n",
       "      <td>54</td>\n",
       "      <td>273.637871</td>\n",
       "      <td>226.000000</td>\n",
       "      <td>47.637871</td>\n",
       "      <td>0</td>\n",
       "      <td>456.763787</td>\n",
       "      <td>226</td>\n",
       "      <td>0</td>\n",
       "      <td>230.763787</td>\n",
       "      <td>165.571912</td>\n",
       "      <td>11/1/2023 21:00</td>\n",
       "      <td>11/2/2023 4:36</td>\n",
       "      <td>11/1/2023 8:00</td>\n",
       "      <td>11/1/2023 15:36</td>\n",
       "      <td>0</td>\n",
       "      <td>0</td>\n",
       "      <td>0</td>\n",
       "      <td>0</td>\n",
       "      <td>3.013565</td>\n",
       "    </tr>\n",
       "    <tr>\n",
       "      <th>1</th>\n",
       "      <td>2</td>\n",
       "      <td>Polyline M</td>\n",
       "      <td>Route2</td>\n",
       "      <td>&lt;Null&gt;</td>\n",
       "      <td>5110 Arundel Rakaia Gorge Road, Alford Forest,...</td>\n",
       "      <td>5110 Arundel Rakaia Gorge Road, Alford Forest,...</td>\n",
       "      <td>&lt;Null&gt;</td>\n",
       "      <td>&lt;Null&gt;</td>\n",
       "      <td>1.698872e+12</td>\n",
       "      <td>1.698872e+12</td>\n",
       "      <td>&lt;Null&gt;</td>\n",
       "      <td>60</td>\n",
       "      <td>&lt;Null&gt;</td>\n",
       "      <td>&lt;Null&gt;</td>\n",
       "      <td>&lt;Null&gt;</td>\n",
       "      <td>&lt;Null&gt;</td>\n",
       "      <td>&lt;Null&gt;</td>\n",
       "      <td>&lt;Null&gt;</td>\n",
       "      <td>&lt;Null&gt;</td>\n",
       "      <td>&lt;Null&gt;</td>\n",
       "      <td>&lt;Null&gt;</td>\n",
       "      <td>0.5</td>\n",
       "      <td>&lt;Null&gt;</td>\n",
       "      <td>452</td>\n",
       "      <td>10</td>\n",
       "      <td>60</td>\n",
       "      <td>480</td>\n",
       "      <td>&lt;Null&gt;</td>\n",
       "      <td>&lt;Null&gt;</td>\n",
       "      <td>Include</td>\n",
       "      <td>&lt;Null&gt;</td>\n",
       "      <td>&lt;Null&gt;</td>\n",
       "      <td>&lt;Null&gt;</td>\n",
       "      <td>&lt;Null&gt;</td>\n",
       "      <td>54</td>\n",
       "      <td>215.324192</td>\n",
       "      <td>215.324192</td>\n",
       "      <td>0.000000</td>\n",
       "      <td>0</td>\n",
       "      <td>430.648384</td>\n",
       "      <td>228</td>\n",
       "      <td>0</td>\n",
       "      <td>202.648384</td>\n",
       "      <td>146.270688</td>\n",
       "      <td>11/1/2023 21:00</td>\n",
       "      <td>11/2/2023 4:10</td>\n",
       "      <td>11/1/2023 8:00</td>\n",
       "      <td>11/1/2023 15:10</td>\n",
       "      <td>0</td>\n",
       "      <td>0</td>\n",
       "      <td>0</td>\n",
       "      <td>0</td>\n",
       "      <td>2.653510</td>\n",
       "    </tr>\n",
       "    <tr>\n",
       "      <th>2</th>\n",
       "      <td>3</td>\n",
       "      <td>Polyline M</td>\n",
       "      <td>Route3</td>\n",
       "      <td>&lt;Null&gt;</td>\n",
       "      <td>5110 Arundel Rakaia Gorge Road, Alford Forest,...</td>\n",
       "      <td>5110 Arundel Rakaia Gorge Road, Alford Forest,...</td>\n",
       "      <td>&lt;Null&gt;</td>\n",
       "      <td>&lt;Null&gt;</td>\n",
       "      <td>1.698872e+12</td>\n",
       "      <td>1.698872e+12</td>\n",
       "      <td>&lt;Null&gt;</td>\n",
       "      <td>60</td>\n",
       "      <td>&lt;Null&gt;</td>\n",
       "      <td>&lt;Null&gt;</td>\n",
       "      <td>&lt;Null&gt;</td>\n",
       "      <td>&lt;Null&gt;</td>\n",
       "      <td>&lt;Null&gt;</td>\n",
       "      <td>&lt;Null&gt;</td>\n",
       "      <td>&lt;Null&gt;</td>\n",
       "      <td>&lt;Null&gt;</td>\n",
       "      <td>&lt;Null&gt;</td>\n",
       "      <td>0.5</td>\n",
       "      <td>&lt;Null&gt;</td>\n",
       "      <td>452</td>\n",
       "      <td>10</td>\n",
       "      <td>60</td>\n",
       "      <td>480</td>\n",
       "      <td>&lt;Null&gt;</td>\n",
       "      <td>&lt;Null&gt;</td>\n",
       "      <td>Include</td>\n",
       "      <td>&lt;Null&gt;</td>\n",
       "      <td>&lt;Null&gt;</td>\n",
       "      <td>&lt;Null&gt;</td>\n",
       "      <td>&lt;Null&gt;</td>\n",
       "      <td>57</td>\n",
       "      <td>230.339501</td>\n",
       "      <td>226.000000</td>\n",
       "      <td>4.339501</td>\n",
       "      <td>0</td>\n",
       "      <td>452.433950</td>\n",
       "      <td>234</td>\n",
       "      <td>0</td>\n",
       "      <td>218.433950</td>\n",
       "      <td>154.595579</td>\n",
       "      <td>11/1/2023 21:00</td>\n",
       "      <td>11/2/2023 4:32</td>\n",
       "      <td>11/1/2023 8:00</td>\n",
       "      <td>11/1/2023 15:32</td>\n",
       "      <td>0</td>\n",
       "      <td>0</td>\n",
       "      <td>0</td>\n",
       "      <td>0</td>\n",
       "      <td>2.787192</td>\n",
       "    </tr>\n",
       "    <tr>\n",
       "      <th>3</th>\n",
       "      <td>4</td>\n",
       "      <td>Polyline M</td>\n",
       "      <td>Route4</td>\n",
       "      <td>&lt;Null&gt;</td>\n",
       "      <td>5110 Arundel Rakaia Gorge Road, Alford Forest,...</td>\n",
       "      <td>5110 Arundel Rakaia Gorge Road, Alford Forest,...</td>\n",
       "      <td>&lt;Null&gt;</td>\n",
       "      <td>&lt;Null&gt;</td>\n",
       "      <td>1.698872e+12</td>\n",
       "      <td>1.698872e+12</td>\n",
       "      <td>&lt;Null&gt;</td>\n",
       "      <td>60</td>\n",
       "      <td>&lt;Null&gt;</td>\n",
       "      <td>&lt;Null&gt;</td>\n",
       "      <td>&lt;Null&gt;</td>\n",
       "      <td>&lt;Null&gt;</td>\n",
       "      <td>&lt;Null&gt;</td>\n",
       "      <td>&lt;Null&gt;</td>\n",
       "      <td>&lt;Null&gt;</td>\n",
       "      <td>&lt;Null&gt;</td>\n",
       "      <td>&lt;Null&gt;</td>\n",
       "      <td>0.5</td>\n",
       "      <td>&lt;Null&gt;</td>\n",
       "      <td>452</td>\n",
       "      <td>10</td>\n",
       "      <td>60</td>\n",
       "      <td>480</td>\n",
       "      <td>&lt;Null&gt;</td>\n",
       "      <td>&lt;Null&gt;</td>\n",
       "      <td>Include</td>\n",
       "      <td>&lt;Null&gt;</td>\n",
       "      <td>&lt;Null&gt;</td>\n",
       "      <td>&lt;Null&gt;</td>\n",
       "      <td>&lt;Null&gt;</td>\n",
       "      <td>51</td>\n",
       "      <td>222.225255</td>\n",
       "      <td>222.225255</td>\n",
       "      <td>0.000000</td>\n",
       "      <td>0</td>\n",
       "      <td>444.450510</td>\n",
       "      <td>222</td>\n",
       "      <td>0</td>\n",
       "      <td>222.450510</td>\n",
       "      <td>152.825985</td>\n",
       "      <td>11/1/2023 21:00</td>\n",
       "      <td>11/2/2023 4:24</td>\n",
       "      <td>11/1/2023 8:00</td>\n",
       "      <td>11/1/2023 15:24</td>\n",
       "      <td>0</td>\n",
       "      <td>0</td>\n",
       "      <td>0</td>\n",
       "      <td>0</td>\n",
       "      <td>2.814031</td>\n",
       "    </tr>\n",
       "    <tr>\n",
       "      <th>4</th>\n",
       "      <td>5</td>\n",
       "      <td>Polyline M</td>\n",
       "      <td>Route5</td>\n",
       "      <td>&lt;Null&gt;</td>\n",
       "      <td>5110 Arundel Rakaia Gorge Road, Alford Forest,...</td>\n",
       "      <td>5110 Arundel Rakaia Gorge Road, Alford Forest,...</td>\n",
       "      <td>&lt;Null&gt;</td>\n",
       "      <td>&lt;Null&gt;</td>\n",
       "      <td>1.698872e+12</td>\n",
       "      <td>1.698872e+12</td>\n",
       "      <td>&lt;Null&gt;</td>\n",
       "      <td>60</td>\n",
       "      <td>&lt;Null&gt;</td>\n",
       "      <td>&lt;Null&gt;</td>\n",
       "      <td>&lt;Null&gt;</td>\n",
       "      <td>&lt;Null&gt;</td>\n",
       "      <td>&lt;Null&gt;</td>\n",
       "      <td>&lt;Null&gt;</td>\n",
       "      <td>&lt;Null&gt;</td>\n",
       "      <td>&lt;Null&gt;</td>\n",
       "      <td>&lt;Null&gt;</td>\n",
       "      <td>0.5</td>\n",
       "      <td>&lt;Null&gt;</td>\n",
       "      <td>452</td>\n",
       "      <td>10</td>\n",
       "      <td>60</td>\n",
       "      <td>480</td>\n",
       "      <td>&lt;Null&gt;</td>\n",
       "      <td>&lt;Null&gt;</td>\n",
       "      <td>Include</td>\n",
       "      <td>&lt;Null&gt;</td>\n",
       "      <td>&lt;Null&gt;</td>\n",
       "      <td>&lt;Null&gt;</td>\n",
       "      <td>&lt;Null&gt;</td>\n",
       "      <td>53</td>\n",
       "      <td>233.217770</td>\n",
       "      <td>226.000000</td>\n",
       "      <td>7.217770</td>\n",
       "      <td>0</td>\n",
       "      <td>452.721777</td>\n",
       "      <td>226</td>\n",
       "      <td>0</td>\n",
       "      <td>226.721777</td>\n",
       "      <td>157.416889</td>\n",
       "      <td>11/1/2023 21:00</td>\n",
       "      <td>11/2/2023 4:32</td>\n",
       "      <td>11/1/2023 8:00</td>\n",
       "      <td>11/1/2023 15:32</td>\n",
       "      <td>0</td>\n",
       "      <td>0</td>\n",
       "      <td>0</td>\n",
       "      <td>0</td>\n",
       "      <td>2.806011</td>\n",
       "    </tr>\n",
       "  </tbody>\n",
       "</table>\n",
       "</div>"
      ],
      "text/plain": [
       "   ObjectID *     Shape *  ... TotalRenewalServiceTime Shape_Length\n",
       "0           1  Polyline M  ...                       0     3.013565\n",
       "1           2  Polyline M  ...                       0     2.653510\n",
       "2           3  Polyline M  ...                       0     2.787192\n",
       "3           4  Polyline M  ...                       0     2.814031\n",
       "4           5  Polyline M  ...                       0     2.806011\n",
       "\n",
       "[5 rows x 53 columns]"
      ]
     },
     "execution_count": 23,
     "metadata": {},
     "output_type": "execute_result"
    }
   ],
   "source": [
    "routes_csv = r\"C:\\Users\\AIP03\\OneDrive - Suranaree University of Technology\\Airbus Defence and Space\\EsriTraining\\OptimizedRoutes\\PythonNotebook\\Routes.csv\"\n",
    "\n",
    "# Read the csv file\n",
    "routes_df = pd.read_csv(routes_csv, parse_dates=[\"EarliestStartTime\", \"LatestStartTime\"], date_parser=pd.to_datetime)\n",
    "routes_df[\"EarliestStartTime\"] = routes_df[\"EarliestStartTime\"].astype(\"int64\") / 10 ** 6\n",
    "routes_df[\"LatestStartTime\"] = routes_df[\"LatestStartTime\"].astype(\"int64\") / 10 ** 6\n",
    "routes_fset = arcgis.features.FeatureSet.from_dataframe(routes_df)\n",
    "routes_df.head(5)"
   ]
  },
  {
   "cell_type": "markdown",
   "id": "fdf09aef",
   "metadata": {},
   "source": [
    "### 5. Create Depots Layer with an Address"
   ]
  },
  {
   "cell_type": "code",
   "execution_count": 7,
   "id": "679aa70f",
   "metadata": {},
   "outputs": [
    {
     "data": {
      "text/plain": [
       "<FeatureSet> 1 features"
      ]
     },
     "execution_count": 7,
     "metadata": {},
     "output_type": "execute_result"
    }
   ],
   "source": [
    "depot_geocoded_fs = geocoding.geocode(\"5110 Arundel Rakaia Gorge Road, Alford Forest, Mount Somers, Canterbury, 7771\", \n",
    "                                      as_featureset=True, max_locations=1)\n",
    "depot_geocoded_fs.features[0].attributes[\"Name\"] = \"5110 Arundel Rakaia Gorge Road, Alford Forest, Mount Somers, Canterbury, 7771\"\n",
    "depot_geocoded_fs.features\n",
    "depots_fset = depot_geocoded_fs.sdf.spatial.to_featureset()\n",
    "depot_geocoded_fs"
   ]
  },
  {
   "cell_type": "markdown",
   "id": "2a175e15",
   "metadata": {},
   "source": [
    "### 6. Draw the Depots and Orders in map"
   ]
  },
  {
   "cell_type": "code",
   "execution_count": 25,
   "id": "e60f7db3",
   "metadata": {},
   "outputs": [
    {
     "data": {
      "application/vnd.jupyter.widget-view+json": {
       "model_id": "967b244434754c04bca156d7a34902c7",
       "version_major": 2,
       "version_minor": 0
      },
      "text/plain": [
       "MapView(layout=Layout(height='400px', width='100%'))"
      ]
     },
     "metadata": {},
     "output_type": "display_data"
    },
    {
     "data": {
      "text/html": [
       "<div class=\"map-static-img-preview-836bd6e6-55bc-4686-bb1d-5a5d3ab6574a\"><img src=\"\"></img></div>"
      ],
      "text/plain": [
       "<display.HTML object>"
      ]
     },
     "metadata": {},
     "output_type": "display_data"
    },
    {
     "data": {
      "text/html": [
       "<div class=\"map-html-embed-preview-836bd6e6-55bc-4686-bb1d-5a5d3ab6574a\"></div>"
      ],
      "text/plain": [
       "<display.HTML object>"
      ]
     },
     "metadata": {},
     "output_type": "display_data"
    }
   ],
   "source": [
    "# Create a map instance to visualize inputs in map\n",
    "map_view_inputs = my_gis.map('Christchurch, Canterbury', zoomlevel=8)\n",
    "map_view_inputs"
   ]
  },
  {
   "cell_type": "code",
   "execution_count": 26,
   "id": "923427d0",
   "metadata": {},
   "outputs": [],
   "source": [
    "# Visualize order and depot locations with symbology\n",
    "map_view_inputs.draw(orders_fset, symbol={\"type\": \"esriSMS\",\"style\": \"esriSMSCircle\",\"color\": [76,115,0,255],\"size\": 8})\n",
    "map_view_inputs.draw(depot_geocoded_fs, symbol={\"type\": \"esriSMS\",\"style\": \"esriSMSSquare\",\"color\": [255,115,0,255], \"size\": 10})"
   ]
  },
  {
   "cell_type": "markdown",
   "id": "57d828c2",
   "metadata": {},
   "source": [
    "### 7. Solve VRP"
   ]
  },
  {
   "cell_type": "code",
   "execution_count": 27,
   "id": "e0e5c1f9",
   "metadata": {},
   "outputs": [
    {
     "name": "stderr",
     "output_type": "stream",
     "text": [
      "WARNING 030194: Data values longer than 500 characters for field [Routes:Description] are truncated.\n",
      "WARNING 030194: Data values longer than 500 characters for field [Routes:StartDepotName] are truncated.\n",
      "WARNING 030194: Data values longer than 500 characters for field [Routes:EndDepotName] are truncated.\n"
     ]
    },
    {
     "name": "stdout",
     "output_type": "stream",
     "text": [
      "Analysis succeeded? True\n",
      "Wall time: 46.1 s\n"
     ]
    }
   ],
   "source": [
    "%%time\n",
    "today = datetime.datetime.now()\n",
    "from arcgis.network.analysis import solve_vehicle_routing_problem\n",
    "results = solve_vehicle_routing_problem(orders= orders_fset,\n",
    "                                        depots = depots_fset,\n",
    "                                        routes = routes_fset, \n",
    "                                        save_route_data='true',\n",
    "                                        populate_directions='true',\n",
    "                                        travel_mode=\"Driving Time\",\n",
    "                                        default_date=today)\n",
    "\n",
    "print('Analysis succeeded? {}'.format(results.solve_succeeded))"
   ]
  },
  {
   "cell_type": "markdown",
   "id": "9ee94aa1",
   "metadata": {},
   "source": [
    "### 8. Look into the Results"
   ]
  },
  {
   "cell_type": "code",
   "execution_count": 28,
   "id": "c0cb4403",
   "metadata": {},
   "outputs": [
    {
     "data": {
      "text/html": [
       "<div>\n",
       "<style scoped>\n",
       "    .dataframe tbody tr th:only-of-type {\n",
       "        vertical-align: middle;\n",
       "    }\n",
       "\n",
       "    .dataframe tbody tr th {\n",
       "        vertical-align: top;\n",
       "    }\n",
       "\n",
       "    .dataframe thead th {\n",
       "        text-align: right;\n",
       "    }\n",
       "</style>\n",
       "<table border=\"1\" class=\"dataframe\">\n",
       "  <thead>\n",
       "    <tr style=\"text-align: right;\">\n",
       "      <th></th>\n",
       "      <th>Name</th>\n",
       "      <th>OrderCount</th>\n",
       "      <th>StartTime</th>\n",
       "      <th>EndTime</th>\n",
       "      <th>TotalCost</th>\n",
       "      <th>TotalDistance</th>\n",
       "      <th>TotalTime</th>\n",
       "      <th>TotalTravelTime</th>\n",
       "      <th>StartTimeUTC</th>\n",
       "      <th>EndTimeUTC</th>\n",
       "    </tr>\n",
       "  </thead>\n",
       "  <tbody>\n",
       "    <tr>\n",
       "      <th>0</th>\n",
       "      <td>Route1</td>\n",
       "      <td>47</td>\n",
       "      <td>2023-11-05 08:00:00</td>\n",
       "      <td>2023-11-05 11:26:11.727000</td>\n",
       "      <td>103.097723</td>\n",
       "      <td>154.987466</td>\n",
       "      <td>206.195446</td>\n",
       "      <td>206.195446</td>\n",
       "      <td>2023-11-04 19:00:00</td>\n",
       "      <td>2023-11-04 22:26:11.727000</td>\n",
       "    </tr>\n",
       "    <tr>\n",
       "      <th>1</th>\n",
       "      <td>Route2</td>\n",
       "      <td>53</td>\n",
       "      <td>2023-11-05 08:00:00</td>\n",
       "      <td>2023-11-05 10:45:41.372999</td>\n",
       "      <td>82.844771</td>\n",
       "      <td>126.225504</td>\n",
       "      <td>165.689542</td>\n",
       "      <td>165.689542</td>\n",
       "      <td>2023-11-04 19:00:00</td>\n",
       "      <td>2023-11-04 21:45:41.372999</td>\n",
       "    </tr>\n",
       "    <tr>\n",
       "      <th>2</th>\n",
       "      <td>Route3</td>\n",
       "      <td>60</td>\n",
       "      <td>2023-11-05 08:00:00</td>\n",
       "      <td>2023-11-05 11:17:14.848999</td>\n",
       "      <td>98.623745</td>\n",
       "      <td>144.058168</td>\n",
       "      <td>197.24749</td>\n",
       "      <td>197.24749</td>\n",
       "      <td>2023-11-04 19:00:00</td>\n",
       "      <td>2023-11-04 22:17:14.848999</td>\n",
       "    </tr>\n",
       "    <tr>\n",
       "      <th>3</th>\n",
       "      <td>Route4</td>\n",
       "      <td>37</td>\n",
       "      <td>2023-11-05 08:00:00</td>\n",
       "      <td>2023-11-05 11:00:56.698999</td>\n",
       "      <td>90.472491</td>\n",
       "      <td>140.229108</td>\n",
       "      <td>180.944981</td>\n",
       "      <td>180.944981</td>\n",
       "      <td>2023-11-04 19:00:00</td>\n",
       "      <td>2023-11-04 22:00:56.698999</td>\n",
       "    </tr>\n",
       "    <tr>\n",
       "      <th>4</th>\n",
       "      <td>Route5</td>\n",
       "      <td>60</td>\n",
       "      <td>2023-11-05 08:00:00</td>\n",
       "      <td>2023-11-05 11:20:51.556000</td>\n",
       "      <td>100.42963</td>\n",
       "      <td>141.569693</td>\n",
       "      <td>200.859261</td>\n",
       "      <td>200.859261</td>\n",
       "      <td>2023-11-04 19:00:00</td>\n",
       "      <td>2023-11-04 22:20:51.556000</td>\n",
       "    </tr>\n",
       "    <tr>\n",
       "      <th>5</th>\n",
       "      <td>Route6</td>\n",
       "      <td>60</td>\n",
       "      <td>2023-11-05 08:00:00</td>\n",
       "      <td>2023-11-05 11:32:55.811000</td>\n",
       "      <td>106.465091</td>\n",
       "      <td>150.074354</td>\n",
       "      <td>212.930182</td>\n",
       "      <td>212.930182</td>\n",
       "      <td>2023-11-04 19:00:00</td>\n",
       "      <td>2023-11-04 22:32:55.811000</td>\n",
       "    </tr>\n",
       "    <tr>\n",
       "      <th>6</th>\n",
       "      <td>Route7</td>\n",
       "      <td>60</td>\n",
       "      <td>2023-11-05 08:00:00</td>\n",
       "      <td>2023-11-05 11:43:35.759000</td>\n",
       "      <td>111.797993</td>\n",
       "      <td>154.35949</td>\n",
       "      <td>223.595985</td>\n",
       "      <td>223.595985</td>\n",
       "      <td>2023-11-04 19:00:00</td>\n",
       "      <td>2023-11-04 22:43:35.759000</td>\n",
       "    </tr>\n",
       "    <tr>\n",
       "      <th>7</th>\n",
       "      <td>Route8</td>\n",
       "      <td>53</td>\n",
       "      <td>2023-11-05 08:00:00</td>\n",
       "      <td>2023-11-05 11:37:36.964999</td>\n",
       "      <td>108.808044</td>\n",
       "      <td>152.885388</td>\n",
       "      <td>217.616088</td>\n",
       "      <td>217.616088</td>\n",
       "      <td>2023-11-04 19:00:00</td>\n",
       "      <td>2023-11-04 22:37:36.964999</td>\n",
       "    </tr>\n",
       "    <tr>\n",
       "      <th>8</th>\n",
       "      <td>Route9</td>\n",
       "      <td>53</td>\n",
       "      <td>2023-11-05 08:00:00</td>\n",
       "      <td>2023-11-05 11:09:42.910000</td>\n",
       "      <td>94.857587</td>\n",
       "      <td>137.55047</td>\n",
       "      <td>189.715174</td>\n",
       "      <td>189.715174</td>\n",
       "      <td>2023-11-04 19:00:00</td>\n",
       "      <td>2023-11-04 22:09:42.910000</td>\n",
       "    </tr>\n",
       "  </tbody>\n",
       "</table>\n",
       "</div>"
      ],
      "text/plain": [
       "     Name  OrderCount  ...        StartTimeUTC                 EndTimeUTC\n",
       "0  Route1          47  ... 2023-11-04 19:00:00 2023-11-04 22:26:11.727000\n",
       "1  Route2          53  ... 2023-11-04 19:00:00 2023-11-04 21:45:41.372999\n",
       "2  Route3          60  ... 2023-11-04 19:00:00 2023-11-04 22:17:14.848999\n",
       "3  Route4          37  ... 2023-11-04 19:00:00 2023-11-04 22:00:56.698999\n",
       "4  Route5          60  ... 2023-11-04 19:00:00 2023-11-04 22:20:51.556000\n",
       "5  Route6          60  ... 2023-11-04 19:00:00 2023-11-04 22:32:55.811000\n",
       "6  Route7          60  ... 2023-11-04 19:00:00 2023-11-04 22:43:35.759000\n",
       "7  Route8          53  ... 2023-11-04 19:00:00 2023-11-04 22:37:36.964999\n",
       "8  Route9          53  ... 2023-11-04 19:00:00 2023-11-04 22:09:42.910000\n",
       "\n",
       "[9 rows x 10 columns]"
      ]
     },
     "execution_count": 28,
     "metadata": {},
     "output_type": "execute_result"
    }
   ],
   "source": [
    "# Display the output routes in a pandas dataframe.\n",
    "out_routes_df = results.out_routes.sdf\n",
    "out_routes_df[['Name','OrderCount','StartTime','EndTime','TotalCost','TotalDistance','TotalTime','TotalTravelTime','StartTimeUTC','EndTimeUTC']]"
   ]
  },
  {
   "cell_type": "code",
   "execution_count": 29,
   "id": "1ebccb56",
   "metadata": {},
   "outputs": [
    {
     "data": {
      "text/html": [
       "<div>\n",
       "<style scoped>\n",
       "    .dataframe tbody tr th:only-of-type {\n",
       "        vertical-align: middle;\n",
       "    }\n",
       "\n",
       "    .dataframe tbody tr th {\n",
       "        vertical-align: top;\n",
       "    }\n",
       "\n",
       "    .dataframe thead th {\n",
       "        text-align: right;\n",
       "    }\n",
       "</style>\n",
       "<table border=\"1\" class=\"dataframe\">\n",
       "  <thead>\n",
       "    <tr style=\"text-align: right;\">\n",
       "      <th></th>\n",
       "      <th>Name</th>\n",
       "      <th>RouteName</th>\n",
       "      <th>Sequence</th>\n",
       "      <th>ArriveTime</th>\n",
       "      <th>DepartTime</th>\n",
       "    </tr>\n",
       "  </thead>\n",
       "  <tbody>\n",
       "    <tr>\n",
       "      <th>483</th>\n",
       "      <td>5110 Arundel Rakaia Gorge Road, Alford Forest,...</td>\n",
       "      <td>Route1</td>\n",
       "      <td>1</td>\n",
       "      <td>2023-11-05 08:00:00.000000</td>\n",
       "      <td>2023-11-05 08:00:00.000000</td>\n",
       "    </tr>\n",
       "    <tr>\n",
       "      <th>435</th>\n",
       "      <td>Location 436</td>\n",
       "      <td>Route1</td>\n",
       "      <td>2</td>\n",
       "      <td>2023-11-05 09:19:00.384999</td>\n",
       "      <td>2023-11-05 09:19:00.384999</td>\n",
       "    </tr>\n",
       "    <tr>\n",
       "      <th>437</th>\n",
       "      <td>Location 438</td>\n",
       "      <td>Route1</td>\n",
       "      <td>3</td>\n",
       "      <td>2023-11-05 09:19:06.365999</td>\n",
       "      <td>2023-11-05 09:19:06.365999</td>\n",
       "    </tr>\n",
       "    <tr>\n",
       "      <th>438</th>\n",
       "      <td>Location 439</td>\n",
       "      <td>Route1</td>\n",
       "      <td>4</td>\n",
       "      <td>2023-11-05 09:19:25.971000</td>\n",
       "      <td>2023-11-05 09:19:25.971000</td>\n",
       "    </tr>\n",
       "    <tr>\n",
       "      <th>441</th>\n",
       "      <td>Location 442</td>\n",
       "      <td>Route1</td>\n",
       "      <td>5</td>\n",
       "      <td>2023-11-05 09:20:15.412000</td>\n",
       "      <td>2023-11-05 09:20:15.412000</td>\n",
       "    </tr>\n",
       "    <tr>\n",
       "      <th>...</th>\n",
       "      <td>...</td>\n",
       "      <td>...</td>\n",
       "      <td>...</td>\n",
       "      <td>...</td>\n",
       "      <td>...</td>\n",
       "    </tr>\n",
       "    <tr>\n",
       "      <th>272</th>\n",
       "      <td>Location 273</td>\n",
       "      <td>Route9</td>\n",
       "      <td>51</td>\n",
       "      <td>2023-11-05 09:59:18.305999</td>\n",
       "      <td>2023-11-05 09:59:18.305999</td>\n",
       "    </tr>\n",
       "    <tr>\n",
       "      <th>273</th>\n",
       "      <td>Location 274</td>\n",
       "      <td>Route9</td>\n",
       "      <td>52</td>\n",
       "      <td>2023-11-05 10:00:05.967000</td>\n",
       "      <td>2023-11-05 10:00:05.967000</td>\n",
       "    </tr>\n",
       "    <tr>\n",
       "      <th>262</th>\n",
       "      <td>Location 263</td>\n",
       "      <td>Route9</td>\n",
       "      <td>53</td>\n",
       "      <td>2023-11-05 10:03:30.408999</td>\n",
       "      <td>2023-11-05 10:03:30.408999</td>\n",
       "    </tr>\n",
       "    <tr>\n",
       "      <th>173</th>\n",
       "      <td>Location 174</td>\n",
       "      <td>Route9</td>\n",
       "      <td>54</td>\n",
       "      <td>2023-11-05 10:08:51.588999</td>\n",
       "      <td>2023-11-05 10:08:51.588999</td>\n",
       "    </tr>\n",
       "    <tr>\n",
       "      <th>500</th>\n",
       "      <td>5110 Arundel Rakaia Gorge Road, Alford Forest,...</td>\n",
       "      <td>Route9</td>\n",
       "      <td>55</td>\n",
       "      <td>2023-11-05 11:09:42.910000</td>\n",
       "      <td>2023-11-05 11:09:42.910000</td>\n",
       "    </tr>\n",
       "  </tbody>\n",
       "</table>\n",
       "<p>501 rows × 5 columns</p>\n",
       "</div>"
      ],
      "text/plain": [
       "                                                  Name  ...                 DepartTime\n",
       "483  5110 Arundel Rakaia Gorge Road, Alford Forest,...  ... 2023-11-05 08:00:00.000000\n",
       "435                                       Location 436  ... 2023-11-05 09:19:00.384999\n",
       "437                                       Location 438  ... 2023-11-05 09:19:06.365999\n",
       "438                                       Location 439  ... 2023-11-05 09:19:25.971000\n",
       "441                                       Location 442  ... 2023-11-05 09:20:15.412000\n",
       "..                                                 ...  ...                        ...\n",
       "272                                       Location 273  ... 2023-11-05 09:59:18.305999\n",
       "273                                       Location 274  ... 2023-11-05 10:00:05.967000\n",
       "262                                       Location 263  ... 2023-11-05 10:03:30.408999\n",
       "173                                       Location 174  ... 2023-11-05 10:08:51.588999\n",
       "500  5110 Arundel Rakaia Gorge Road, Alford Forest,...  ... 2023-11-05 11:09:42.910000\n",
       "\n",
       "[501 rows x 5 columns]"
      ]
     },
     "execution_count": 29,
     "metadata": {},
     "output_type": "execute_result"
    }
   ],
   "source": [
    "out_stops_df = results.out_stops.sdf\n",
    "out_stops_df[['Name','RouteName','Sequence','ArriveTime','DepartTime']].sort_values(by=['RouteName',\n",
    "                                                                                       'Sequence'])"
   ]
  },
  {
   "cell_type": "markdown",
   "id": "3bfb2618",
   "metadata": {},
   "source": [
    "### 9. Display Output Routes"
   ]
  },
  {
   "cell_type": "code",
   "execution_count": 30,
   "id": "162c7ec6",
   "metadata": {},
   "outputs": [
    {
     "data": {
      "application/vnd.jupyter.widget-view+json": {
       "model_id": "d4d6fc272fd844de9ed3e77a5779ae3d",
       "version_major": 2,
       "version_minor": 0
      },
      "text/plain": [
       "MapView(layout=Layout(height='400px', width='100%'))"
      ]
     },
     "metadata": {},
     "output_type": "display_data"
    },
    {
     "data": {
      "text/html": [
       "<div class=\"map-static-img-preview-9c8a0025-de63-4e8d-8ef3-8e331f7af047\"><img src=\"\"></img></div>"
      ],
      "text/plain": [
       "<display.HTML object>"
      ]
     },
     "metadata": {},
     "output_type": "display_data"
    },
    {
     "data": {
      "text/html": [
       "<div class=\"map-html-embed-preview-9c8a0025-de63-4e8d-8ef3-8e331f7af047\"></div>"
      ],
      "text/plain": [
       "<display.HTML object>"
      ]
     },
     "metadata": {},
     "output_type": "display_data"
    }
   ],
   "source": [
    "# Create a map instance to visualize inputs in map\n",
    "map_view_outputs = my_gis.map('Christchurch, New Zealand', zoomlevel=8)\n",
    "map_view_outputs"
   ]
  },
  {
   "cell_type": "code",
   "execution_count": 31,
   "id": "f7a24cb8",
   "metadata": {},
   "outputs": [],
   "source": [
    "#Visusalize the inputsn with different symbols\n",
    "map_view_outputs.draw(orders_fset, symbol={\"type\": \"esriSMS\",\n",
    "                                           \"style\": \"esriSMSCircle\",\n",
    "                                           \"color\": [76,115,0,255],\"size\": 8})\n",
    "map_view_outputs.draw(depots_fset, symbol={\"type\": \"esriSMS\",\n",
    "                                           \"style\": \"esriSMSSquare\",\n",
    "                                           \"color\": [255,115,0,255], \"size\": 10})\n",
    "\n",
    "#Visualize the first route\n",
    "out_routes_flist = []\n",
    "out_routes_flist.append(results.out_routes.features[0])\n",
    "out_routes_fset = []\n",
    "out_routes_fset = FeatureSet(out_routes_flist)\n",
    "map_view_outputs.draw(out_routes_fset, \n",
    "                      symbol={\"type\": \"esriSLS\",\n",
    "                              \"style\": \"esriSLSSolid\",\n",
    "                              \"color\": [0,100,240,255],\"size\":10})\n",
    "\n",
    "#Visualize the second route\n",
    "out_routes_flist = []\n",
    "out_routes_flist.append(results.out_routes.features[1])\n",
    "out_routes_fset = []\n",
    "out_routes_fset = FeatureSet(out_routes_flist)\n",
    "map_view_outputs.draw(out_routes_fset, \n",
    "                      symbol={\"type\": \"esriSLS\",\n",
    "                              \"style\": \"esriSLSSolid\",\n",
    "                              \"color\": [255,0,0,255],\"size\":10})"
   ]
  },
  {
   "cell_type": "markdown",
   "id": "f12682fc",
   "metadata": {},
   "source": [
    "### 10. Create Route Layers for Navigation"
   ]
  },
  {
   "cell_type": "code",
   "execution_count": 32,
   "id": "b5c54dc0",
   "metadata": {},
   "outputs": [
    {
     "name": "stderr",
     "output_type": "stream",
     "text": [
      "{\"cost\": 0}\n"
     ]
    },
    {
     "data": {
      "text/plain": [
       "'https://geosaurus.maps.arcgis.com/home/item.html?id=2cf273f83c474b8b89fce43705e60c39'"
      ]
     },
     "metadata": {},
     "output_type": "display_data"
    },
    {
     "data": {
      "text/html": [
       "<div class=\"item_container\" style=\"height: auto; overflow: hidden; border: 1px solid #cfcfcf; border-radius: 2px; background: #f6fafa; line-height: 1.21429em; padding: 10px;\">\n",
       "                    <div class=\"item_left\" style=\"width: 210px; float: left;\">\n",
       "                       <a href='https://geosaurus.maps.arcgis.com/home/item.html?id=2cf273f83c474b8b89fce43705e60c39' target='_blank'>\n",
       "                        <img src='http://static.arcgis.com/images/desktopapp.png' class=\"itemThumbnail\">\n",
       "                       </a>\n",
       "                    </div>\n",
       "\n",
       "                    <div class=\"item_right\"     style=\"float: none; width: auto; overflow: hidden;\">\n",
       "                        <a href='https://geosaurus.maps.arcgis.com/home/item.html?id=2cf273f83c474b8b89fce43705e60c39' target='_blank'><b>Route1</b>\n",
       "                        </a>\n",
       "                        <br/>Route and directions for Route1<img src='https://geosaurus.maps.arcgis.com/home/js/jsapi/esri/css/images/item_type_icons/features16.png' style=\"vertical-align:middle;\">Feature Collection by arcgis_python\n",
       "                        <br/>Last Modified: November 05, 2023\n",
       "                        <br/>0 comments, 1 views\n",
       "                    </div>\n",
       "                </div>\n",
       "                "
      ],
      "text/plain": [
       "<Item title:\"Route1\" type:Feature Collection owner:arcgis_python>"
      ]
     },
     "metadata": {},
     "output_type": "display_data"
    },
    {
     "data": {
      "text/plain": [
       "'https://geosaurus.maps.arcgis.com/home/item.html?id=06320b6b3643447bb68597fcb78c72ce'"
      ]
     },
     "metadata": {},
     "output_type": "display_data"
    },
    {
     "data": {
      "text/html": [
       "<div class=\"item_container\" style=\"height: auto; overflow: hidden; border: 1px solid #cfcfcf; border-radius: 2px; background: #f6fafa; line-height: 1.21429em; padding: 10px;\">\n",
       "                    <div class=\"item_left\" style=\"width: 210px; float: left;\">\n",
       "                       <a href='https://geosaurus.maps.arcgis.com/home/item.html?id=06320b6b3643447bb68597fcb78c72ce' target='_blank'>\n",
       "                        <img src='http://static.arcgis.com/images/desktopapp.png' class=\"itemThumbnail\">\n",
       "                       </a>\n",
       "                    </div>\n",
       "\n",
       "                    <div class=\"item_right\"     style=\"float: none; width: auto; overflow: hidden;\">\n",
       "                        <a href='https://geosaurus.maps.arcgis.com/home/item.html?id=06320b6b3643447bb68597fcb78c72ce' target='_blank'><b>Route2</b>\n",
       "                        </a>\n",
       "                        <br/>Route and directions for Route2<img src='https://geosaurus.maps.arcgis.com/home/js/jsapi/esri/css/images/item_type_icons/features16.png' style=\"vertical-align:middle;\">Feature Collection by arcgis_python\n",
       "                        <br/>Last Modified: November 05, 2023\n",
       "                        <br/>0 comments, 1 views\n",
       "                    </div>\n",
       "                </div>\n",
       "                "
      ],
      "text/plain": [
       "<Item title:\"Route2\" type:Feature Collection owner:arcgis_python>"
      ]
     },
     "metadata": {},
     "output_type": "display_data"
    },
    {
     "data": {
      "text/plain": [
       "'https://geosaurus.maps.arcgis.com/home/item.html?id=fdb3e716eb03462689b8d567e6c30664'"
      ]
     },
     "metadata": {},
     "output_type": "display_data"
    },
    {
     "data": {
      "text/html": [
       "<div class=\"item_container\" style=\"height: auto; overflow: hidden; border: 1px solid #cfcfcf; border-radius: 2px; background: #f6fafa; line-height: 1.21429em; padding: 10px;\">\n",
       "                    <div class=\"item_left\" style=\"width: 210px; float: left;\">\n",
       "                       <a href='https://geosaurus.maps.arcgis.com/home/item.html?id=fdb3e716eb03462689b8d567e6c30664' target='_blank'>\n",
       "                        <img src='http://static.arcgis.com/images/desktopapp.png' class=\"itemThumbnail\">\n",
       "                       </a>\n",
       "                    </div>\n",
       "\n",
       "                    <div class=\"item_right\"     style=\"float: none; width: auto; overflow: hidden;\">\n",
       "                        <a href='https://geosaurus.maps.arcgis.com/home/item.html?id=fdb3e716eb03462689b8d567e6c30664' target='_blank'><b>Route3</b>\n",
       "                        </a>\n",
       "                        <br/>Route and directions for Route3<img src='https://geosaurus.maps.arcgis.com/home/js/jsapi/esri/css/images/item_type_icons/features16.png' style=\"vertical-align:middle;\">Feature Collection by arcgis_python\n",
       "                        <br/>Last Modified: November 05, 2023\n",
       "                        <br/>0 comments, 0 views\n",
       "                    </div>\n",
       "                </div>\n",
       "                "
      ],
      "text/plain": [
       "<Item title:\"Route3\" type:Feature Collection owner:arcgis_python>"
      ]
     },
     "metadata": {},
     "output_type": "display_data"
    },
    {
     "data": {
      "text/plain": [
       "'https://geosaurus.maps.arcgis.com/home/item.html?id=7c38f6c55e154cdd9667ece8de09af40'"
      ]
     },
     "metadata": {},
     "output_type": "display_data"
    },
    {
     "data": {
      "text/html": [
       "<div class=\"item_container\" style=\"height: auto; overflow: hidden; border: 1px solid #cfcfcf; border-radius: 2px; background: #f6fafa; line-height: 1.21429em; padding: 10px;\">\n",
       "                    <div class=\"item_left\" style=\"width: 210px; float: left;\">\n",
       "                       <a href='https://geosaurus.maps.arcgis.com/home/item.html?id=7c38f6c55e154cdd9667ece8de09af40' target='_blank'>\n",
       "                        <img src='http://static.arcgis.com/images/desktopapp.png' class=\"itemThumbnail\">\n",
       "                       </a>\n",
       "                    </div>\n",
       "\n",
       "                    <div class=\"item_right\"     style=\"float: none; width: auto; overflow: hidden;\">\n",
       "                        <a href='https://geosaurus.maps.arcgis.com/home/item.html?id=7c38f6c55e154cdd9667ece8de09af40' target='_blank'><b>Route4</b>\n",
       "                        </a>\n",
       "                        <br/>Route and directions for Route4<img src='https://geosaurus.maps.arcgis.com/home/js/jsapi/esri/css/images/item_type_icons/features16.png' style=\"vertical-align:middle;\">Feature Collection by arcgis_python\n",
       "                        <br/>Last Modified: November 05, 2023\n",
       "                        <br/>0 comments, 0 views\n",
       "                    </div>\n",
       "                </div>\n",
       "                "
      ],
      "text/plain": [
       "<Item title:\"Route4\" type:Feature Collection owner:arcgis_python>"
      ]
     },
     "metadata": {},
     "output_type": "display_data"
    },
    {
     "data": {
      "text/plain": [
       "'https://geosaurus.maps.arcgis.com/home/item.html?id=21e379e5e32f4f118ada188ac88add1b'"
      ]
     },
     "metadata": {},
     "output_type": "display_data"
    },
    {
     "data": {
      "text/html": [
       "<div class=\"item_container\" style=\"height: auto; overflow: hidden; border: 1px solid #cfcfcf; border-radius: 2px; background: #f6fafa; line-height: 1.21429em; padding: 10px;\">\n",
       "                    <div class=\"item_left\" style=\"width: 210px; float: left;\">\n",
       "                       <a href='https://geosaurus.maps.arcgis.com/home/item.html?id=21e379e5e32f4f118ada188ac88add1b' target='_blank'>\n",
       "                        <img src='http://static.arcgis.com/images/desktopapp.png' class=\"itemThumbnail\">\n",
       "                       </a>\n",
       "                    </div>\n",
       "\n",
       "                    <div class=\"item_right\"     style=\"float: none; width: auto; overflow: hidden;\">\n",
       "                        <a href='https://geosaurus.maps.arcgis.com/home/item.html?id=21e379e5e32f4f118ada188ac88add1b' target='_blank'><b>Route5</b>\n",
       "                        </a>\n",
       "                        <br/>Route and directions for Route5<img src='https://geosaurus.maps.arcgis.com/home/js/jsapi/esri/css/images/item_type_icons/features16.png' style=\"vertical-align:middle;\">Feature Collection by arcgis_python\n",
       "                        <br/>Last Modified: November 05, 2023\n",
       "                        <br/>0 comments, 0 views\n",
       "                    </div>\n",
       "                </div>\n",
       "                "
      ],
      "text/plain": [
       "<Item title:\"Route5\" type:Feature Collection owner:arcgis_python>"
      ]
     },
     "metadata": {},
     "output_type": "display_data"
    },
    {
     "data": {
      "text/plain": [
       "'https://geosaurus.maps.arcgis.com/home/item.html?id=805554c27b7a4bc5aebdf9fd83d63ac5'"
      ]
     },
     "metadata": {},
     "output_type": "display_data"
    },
    {
     "data": {
      "text/html": [
       "<div class=\"item_container\" style=\"height: auto; overflow: hidden; border: 1px solid #cfcfcf; border-radius: 2px; background: #f6fafa; line-height: 1.21429em; padding: 10px;\">\n",
       "                    <div class=\"item_left\" style=\"width: 210px; float: left;\">\n",
       "                       <a href='https://geosaurus.maps.arcgis.com/home/item.html?id=805554c27b7a4bc5aebdf9fd83d63ac5' target='_blank'>\n",
       "                        <img src='http://static.arcgis.com/images/desktopapp.png' class=\"itemThumbnail\">\n",
       "                       </a>\n",
       "                    </div>\n",
       "\n",
       "                    <div class=\"item_right\"     style=\"float: none; width: auto; overflow: hidden;\">\n",
       "                        <a href='https://geosaurus.maps.arcgis.com/home/item.html?id=805554c27b7a4bc5aebdf9fd83d63ac5' target='_blank'><b>Route6</b>\n",
       "                        </a>\n",
       "                        <br/>Route and directions for Route6<img src='https://geosaurus.maps.arcgis.com/home/js/jsapi/esri/css/images/item_type_icons/features16.png' style=\"vertical-align:middle;\">Feature Collection by arcgis_python\n",
       "                        <br/>Last Modified: November 05, 2023\n",
       "                        <br/>0 comments, 0 views\n",
       "                    </div>\n",
       "                </div>\n",
       "                "
      ],
      "text/plain": [
       "<Item title:\"Route6\" type:Feature Collection owner:arcgis_python>"
      ]
     },
     "metadata": {},
     "output_type": "display_data"
    },
    {
     "data": {
      "text/plain": [
       "'https://geosaurus.maps.arcgis.com/home/item.html?id=7b73b8ef65554061a7dd855b1a0189c0'"
      ]
     },
     "metadata": {},
     "output_type": "display_data"
    },
    {
     "data": {
      "text/html": [
       "<div class=\"item_container\" style=\"height: auto; overflow: hidden; border: 1px solid #cfcfcf; border-radius: 2px; background: #f6fafa; line-height: 1.21429em; padding: 10px;\">\n",
       "                    <div class=\"item_left\" style=\"width: 210px; float: left;\">\n",
       "                       <a href='https://geosaurus.maps.arcgis.com/home/item.html?id=7b73b8ef65554061a7dd855b1a0189c0' target='_blank'>\n",
       "                        <img src='http://static.arcgis.com/images/desktopapp.png' class=\"itemThumbnail\">\n",
       "                       </a>\n",
       "                    </div>\n",
       "\n",
       "                    <div class=\"item_right\"     style=\"float: none; width: auto; overflow: hidden;\">\n",
       "                        <a href='https://geosaurus.maps.arcgis.com/home/item.html?id=7b73b8ef65554061a7dd855b1a0189c0' target='_blank'><b>Route7</b>\n",
       "                        </a>\n",
       "                        <br/>Route and directions for Route7<img src='https://geosaurus.maps.arcgis.com/home/js/jsapi/esri/css/images/item_type_icons/features16.png' style=\"vertical-align:middle;\">Feature Collection by arcgis_python\n",
       "                        <br/>Last Modified: November 05, 2023\n",
       "                        <br/>0 comments, 1 views\n",
       "                    </div>\n",
       "                </div>\n",
       "                "
      ],
      "text/plain": [
       "<Item title:\"Route7\" type:Feature Collection owner:arcgis_python>"
      ]
     },
     "metadata": {},
     "output_type": "display_data"
    },
    {
     "data": {
      "text/plain": [
       "'https://geosaurus.maps.arcgis.com/home/item.html?id=1f9cb79efcf842b3882e06a079cec2c5'"
      ]
     },
     "metadata": {},
     "output_type": "display_data"
    },
    {
     "data": {
      "text/html": [
       "<div class=\"item_container\" style=\"height: auto; overflow: hidden; border: 1px solid #cfcfcf; border-radius: 2px; background: #f6fafa; line-height: 1.21429em; padding: 10px;\">\n",
       "                    <div class=\"item_left\" style=\"width: 210px; float: left;\">\n",
       "                       <a href='https://geosaurus.maps.arcgis.com/home/item.html?id=1f9cb79efcf842b3882e06a079cec2c5' target='_blank'>\n",
       "                        <img src='http://static.arcgis.com/images/desktopapp.png' class=\"itemThumbnail\">\n",
       "                       </a>\n",
       "                    </div>\n",
       "\n",
       "                    <div class=\"item_right\"     style=\"float: none; width: auto; overflow: hidden;\">\n",
       "                        <a href='https://geosaurus.maps.arcgis.com/home/item.html?id=1f9cb79efcf842b3882e06a079cec2c5' target='_blank'><b>Route8</b>\n",
       "                        </a>\n",
       "                        <br/>Route and directions for Route8<img src='https://geosaurus.maps.arcgis.com/home/js/jsapi/esri/css/images/item_type_icons/features16.png' style=\"vertical-align:middle;\">Feature Collection by arcgis_python\n",
       "                        <br/>Last Modified: November 05, 2023\n",
       "                        <br/>0 comments, 1 views\n",
       "                    </div>\n",
       "                </div>\n",
       "                "
      ],
      "text/plain": [
       "<Item title:\"Route8\" type:Feature Collection owner:arcgis_python>"
      ]
     },
     "metadata": {},
     "output_type": "display_data"
    },
    {
     "data": {
      "text/plain": [
       "'https://geosaurus.maps.arcgis.com/home/item.html?id=53abe862e93a418ca89f4252c1c3e2a2'"
      ]
     },
     "metadata": {},
     "output_type": "display_data"
    },
    {
     "data": {
      "text/html": [
       "<div class=\"item_container\" style=\"height: auto; overflow: hidden; border: 1px solid #cfcfcf; border-radius: 2px; background: #f6fafa; line-height: 1.21429em; padding: 10px;\">\n",
       "                    <div class=\"item_left\" style=\"width: 210px; float: left;\">\n",
       "                       <a href='https://geosaurus.maps.arcgis.com/home/item.html?id=53abe862e93a418ca89f4252c1c3e2a2' target='_blank'>\n",
       "                        <img src='http://static.arcgis.com/images/desktopapp.png' class=\"itemThumbnail\">\n",
       "                       </a>\n",
       "                    </div>\n",
       "\n",
       "                    <div class=\"item_right\"     style=\"float: none; width: auto; overflow: hidden;\">\n",
       "                        <a href='https://geosaurus.maps.arcgis.com/home/item.html?id=53abe862e93a418ca89f4252c1c3e2a2' target='_blank'><b>Route9</b>\n",
       "                        </a>\n",
       "                        <br/>Route and directions for Route9<img src='https://geosaurus.maps.arcgis.com/home/js/jsapi/esri/css/images/item_type_icons/features16.png' style=\"vertical-align:middle;\">Feature Collection by arcgis_python\n",
       "                        <br/>Last Modified: November 05, 2023\n",
       "                        <br/>0 comments, 0 views\n",
       "                    </div>\n",
       "                </div>\n",
       "                "
      ],
      "text/plain": [
       "<Item title:\"Route9\" type:Feature Collection owner:arcgis_python>"
      ]
     },
     "metadata": {},
     "output_type": "display_data"
    }
   ],
   "source": [
    "route_data = results.out_route_data.download('.')\n",
    "route_data_item = my_gis.content.add({\"type\": \"File Geodatabase\"}, route_data)\n",
    "route_layers = arcgis.features.analysis.create_route_layers(route_data_item, \n",
    "                                                            delete_route_data_item=True)\n",
    "for route_layer in route_layers:\n",
    "    route_layer.share(org=True)\n",
    "    display(route_layer.homepage)\n",
    "    display(route_layer)"
   ]
  },
  {
   "cell_type": "markdown",
   "id": "659af279",
   "metadata": {},
   "source": [
    "### 11. Conclusion\n",
    "The routes are ready for navigation. In this way, you can convert a workflow into a python Script to solve VRP."
   ]
  }
 ],
 "metadata": {
  "kernelspec": {
   "display_name": "ArcGISPro",
   "language": "Python",
   "name": "python3"
  },
  "language_info": {
   "file_extension": ".py",
   "name": "python",
   "version": "3"
  }
 },
 "nbformat": 4,
 "nbformat_minor": 5
}
