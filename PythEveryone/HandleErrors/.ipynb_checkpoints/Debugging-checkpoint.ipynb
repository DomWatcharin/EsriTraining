{
 "cells": [
  {
   "cell_type": "markdown",
   "metadata": {},
   "source": [
    "#Assign variables to parameters for the Multiple Ring Buffer geoprocessing tool"
   ]
  },
  {
   "cell_type": "code",
   "execution_count": 2,
   "metadata": {},
   "outputs": [],
   "source": [
    "inputFC = r\"C:\\EsriTraining\\PythEveryone\\HandleErrors\\SanDiego.gdb\\SD_Stream\"\n",
    "outputFC = \"StreamBuffers\"\n",
    "bufferField = \"BufferDistance\"\n",
    "bufferUnit = \"Feet\"\n",
    "dissolveType = \"ALL\""
   ]
  },
  {
   "cell_type": "markdown",
   "metadata": {},
   "source": [
    "#Assign variables to collections of distance values"
   ]
  },
  {
   "cell_type": "code",
   "execution_count": null,
   "metadata": {},
   "outputs": [],
   "source": [
    "samplesA = [95, 99, 105, 106, 110]\n",
    "samplesB = [451, 485, 502, 520, 535]\n",
    "samplesC = [910, 945, 996, 1055, '1120']"
   ]
  },
  {
   "cell_type": "markdown",
   "metadata": {},
   "source": [
    "#Use the statistics module to find the mean of each collection\n",
    "#Generate a list of mean distance parameters to use in a buffer analysis"
   ]
  },
  {
   "cell_type": "code",
   "execution_count": null,
   "metadata": {
    "scrolled": false
   },
   "outputs": [],
   "source": [
    "sampleMeans = [samplesA, samplesB, samplesC]\n",
    "buffDists = []\n",
    "for values in sampleMeans\n",
    "    meanValue = statistics.mean(values)\n",
    "    buffDists.append(meanValue)\n",
    "print(buffDists)"
   ]
  },
  {
   "cell_type": "markdown",
   "metadata": {},
   "source": [
    "#Use the Multiple Ring Buffer geoprocessing tool"
   ]
  },
  {
   "cell_type": "code",
   "execution_count": null,
   "metadata": {
    "scrolled": true
   },
   "outputs": [],
   "source": [
    "arcpy.analysis.MultipleRingBuffer(inputFC, outputFC, buffDists, bufferUnit, bufferField, dissolveType)"
   ]
  }
 ],
 "metadata": {
  "kernelspec": {
   "display_name": "ArcGISPro",
   "language": "Python",
   "name": "python3"
  },
  "language_info": {
   "file_extension": ".py",
   "name": "python",
   "version": "3"
  }
 },
 "nbformat": 4,
 "nbformat_minor": 2
}
